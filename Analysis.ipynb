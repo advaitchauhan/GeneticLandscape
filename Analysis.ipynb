{
 "cells": [
  {
   "cell_type": "code",
   "execution_count": 2,
   "metadata": {
    "collapsed": true
   },
   "outputs": [],
   "source": [
    "import pandas as pd\n",
    "import numpy as np"
   ]
  },
  {
   "cell_type": "markdown",
   "metadata": {},
   "source": [
    "The original downloaded dataset has 6,647,235 rows (calculated with wc -l). I will thus begin exploring a smaller dataset."
   ]
  },
  {
   "cell_type": "code",
   "execution_count": 3,
   "metadata": {
    "collapsed": false
   },
   "outputs": [],
   "source": [
    "df = pd.read_table('sgadata_costanzo2009_rawdata_101120.txt', header = None)"
   ]
  },
  {
   "cell_type": "code",
   "execution_count": 4,
   "metadata": {
    "collapsed": false
   },
   "outputs": [
    {
     "data": {
      "text/html": [
       "<div>\n",
       "<table border=\"1\" class=\"dataframe\">\n",
       "  <thead>\n",
       "    <tr style=\"text-align: right;\">\n",
       "      <th></th>\n",
       "      <th>0</th>\n",
       "      <th>1</th>\n",
       "      <th>2</th>\n",
       "      <th>3</th>\n",
       "      <th>4</th>\n",
       "      <th>5</th>\n",
       "      <th>6</th>\n",
       "      <th>7</th>\n",
       "      <th>8</th>\n",
       "      <th>9</th>\n",
       "      <th>10</th>\n",
       "      <th>11</th>\n",
       "      <th>12</th>\n",
       "    </tr>\n",
       "  </thead>\n",
       "  <tbody>\n",
       "    <tr>\n",
       "      <th>0</th>\n",
       "      <td>YAL063C</td>\n",
       "      <td>FLO9</td>\n",
       "      <td>YAL068C</td>\n",
       "      <td>PAU8</td>\n",
       "      <td>NaN</td>\n",
       "      <td>NaN</td>\n",
       "      <td>NaN</td>\n",
       "      <td>1.1026</td>\n",
       "      <td>0.0119</td>\n",
       "      <td>1.0353</td>\n",
       "      <td>0.0081</td>\n",
       "      <td>NaN</td>\n",
       "      <td>NaN</td>\n",
       "    </tr>\n",
       "    <tr>\n",
       "      <th>1</th>\n",
       "      <td>YAL063C</td>\n",
       "      <td>FLO9</td>\n",
       "      <td>YAL067C</td>\n",
       "      <td>SEO1</td>\n",
       "      <td>NaN</td>\n",
       "      <td>NaN</td>\n",
       "      <td>NaN</td>\n",
       "      <td>1.1026</td>\n",
       "      <td>0.0119</td>\n",
       "      <td>1.0204</td>\n",
       "      <td>0.0064</td>\n",
       "      <td>NaN</td>\n",
       "      <td>NaN</td>\n",
       "    </tr>\n",
       "    <tr>\n",
       "      <th>2</th>\n",
       "      <td>YAL063C</td>\n",
       "      <td>FLO9</td>\n",
       "      <td>YAL066W</td>\n",
       "      <td>YAL066W</td>\n",
       "      <td>NaN</td>\n",
       "      <td>NaN</td>\n",
       "      <td>NaN</td>\n",
       "      <td>1.1026</td>\n",
       "      <td>0.0119</td>\n",
       "      <td>1.0610</td>\n",
       "      <td>0.0108</td>\n",
       "      <td>NaN</td>\n",
       "      <td>NaN</td>\n",
       "    </tr>\n",
       "    <tr>\n",
       "      <th>3</th>\n",
       "      <td>YAL063C</td>\n",
       "      <td>FLO9</td>\n",
       "      <td>YAL065C</td>\n",
       "      <td>YAL065C</td>\n",
       "      <td>NaN</td>\n",
       "      <td>NaN</td>\n",
       "      <td>NaN</td>\n",
       "      <td>1.1026</td>\n",
       "      <td>0.0119</td>\n",
       "      <td>1.0532</td>\n",
       "      <td>0.0085</td>\n",
       "      <td>NaN</td>\n",
       "      <td>NaN</td>\n",
       "    </tr>\n",
       "    <tr>\n",
       "      <th>4</th>\n",
       "      <td>YAL063C</td>\n",
       "      <td>FLO9</td>\n",
       "      <td>YAL064C-A</td>\n",
       "      <td>YAL064C-A</td>\n",
       "      <td>NaN</td>\n",
       "      <td>NaN</td>\n",
       "      <td>NaN</td>\n",
       "      <td>1.1026</td>\n",
       "      <td>0.0119</td>\n",
       "      <td>1.0210</td>\n",
       "      <td>0.0077</td>\n",
       "      <td>NaN</td>\n",
       "      <td>NaN</td>\n",
       "    </tr>\n",
       "  </tbody>\n",
       "</table>\n",
       "</div>"
      ],
      "text/plain": [
       "        0     1          2          3   4   5   6       7       8       9   \\\n",
       "0  YAL063C  FLO9    YAL068C       PAU8 NaN NaN NaN  1.1026  0.0119  1.0353   \n",
       "1  YAL063C  FLO9    YAL067C       SEO1 NaN NaN NaN  1.1026  0.0119  1.0204   \n",
       "2  YAL063C  FLO9    YAL066W    YAL066W NaN NaN NaN  1.1026  0.0119  1.0610   \n",
       "3  YAL063C  FLO9    YAL065C    YAL065C NaN NaN NaN  1.1026  0.0119  1.0532   \n",
       "4  YAL063C  FLO9  YAL064C-A  YAL064C-A NaN NaN NaN  1.1026  0.0119  1.0210   \n",
       "\n",
       "       10  11  12  \n",
       "0  0.0081 NaN NaN  \n",
       "1  0.0064 NaN NaN  \n",
       "2  0.0108 NaN NaN  \n",
       "3  0.0085 NaN NaN  \n",
       "4  0.0077 NaN NaN  "
      ]
     },
     "execution_count": 4,
     "metadata": {},
     "output_type": "execute_result"
    }
   ],
   "source": [
    "df.head()"
   ]
  },
  {
   "cell_type": "code",
   "execution_count": 5,
   "metadata": {
    "collapsed": false
   },
   "outputs": [
    {
     "data": {
      "text/html": [
       "<div>\n",
       "<table border=\"1\" class=\"dataframe\">\n",
       "  <thead>\n",
       "    <tr style=\"text-align: right;\">\n",
       "      <th></th>\n",
       "      <th>0</th>\n",
       "      <th>1</th>\n",
       "      <th>2</th>\n",
       "      <th>3</th>\n",
       "      <th>4</th>\n",
       "      <th>5</th>\n",
       "      <th>6</th>\n",
       "      <th>7</th>\n",
       "      <th>8</th>\n",
       "      <th>9</th>\n",
       "      <th>10</th>\n",
       "      <th>11</th>\n",
       "      <th>12</th>\n",
       "    </tr>\n",
       "  </thead>\n",
       "  <tbody>\n",
       "    <tr>\n",
       "      <th>6647230</th>\n",
       "      <td>YPR198W</td>\n",
       "      <td>SGE1</td>\n",
       "      <td>YPR197C</td>\n",
       "      <td>YPR197C</td>\n",
       "      <td>NaN</td>\n",
       "      <td>NaN</td>\n",
       "      <td>NaN</td>\n",
       "      <td>1.0501</td>\n",
       "      <td>0.0111</td>\n",
       "      <td>1.0392</td>\n",
       "      <td>0.0132</td>\n",
       "      <td>NaN</td>\n",
       "      <td>NaN</td>\n",
       "    </tr>\n",
       "    <tr>\n",
       "      <th>6647231</th>\n",
       "      <td>YPR198W</td>\n",
       "      <td>SGE1</td>\n",
       "      <td>YPR198W</td>\n",
       "      <td>SGE1</td>\n",
       "      <td>NaN</td>\n",
       "      <td>NaN</td>\n",
       "      <td>NaN</td>\n",
       "      <td>1.0501</td>\n",
       "      <td>0.0111</td>\n",
       "      <td>1.0501</td>\n",
       "      <td>0.0111</td>\n",
       "      <td>NaN</td>\n",
       "      <td>NaN</td>\n",
       "    </tr>\n",
       "    <tr>\n",
       "      <th>6647232</th>\n",
       "      <td>YPR198W</td>\n",
       "      <td>SGE1</td>\n",
       "      <td>YPR199C</td>\n",
       "      <td>ARR1</td>\n",
       "      <td>NaN</td>\n",
       "      <td>NaN</td>\n",
       "      <td>NaN</td>\n",
       "      <td>1.0501</td>\n",
       "      <td>0.0111</td>\n",
       "      <td>1.0184</td>\n",
       "      <td>0.0057</td>\n",
       "      <td>NaN</td>\n",
       "      <td>NaN</td>\n",
       "    </tr>\n",
       "    <tr>\n",
       "      <th>6647233</th>\n",
       "      <td>YPR198W</td>\n",
       "      <td>SGE1</td>\n",
       "      <td>YPR200C</td>\n",
       "      <td>ARR2</td>\n",
       "      <td>NaN</td>\n",
       "      <td>NaN</td>\n",
       "      <td>NaN</td>\n",
       "      <td>1.0501</td>\n",
       "      <td>0.0111</td>\n",
       "      <td>1.0329</td>\n",
       "      <td>0.0084</td>\n",
       "      <td>NaN</td>\n",
       "      <td>NaN</td>\n",
       "    </tr>\n",
       "    <tr>\n",
       "      <th>6647234</th>\n",
       "      <td>YPR198W</td>\n",
       "      <td>SGE1</td>\n",
       "      <td>YPR201W</td>\n",
       "      <td>ARR3</td>\n",
       "      <td>NaN</td>\n",
       "      <td>NaN</td>\n",
       "      <td>NaN</td>\n",
       "      <td>1.0501</td>\n",
       "      <td>0.0111</td>\n",
       "      <td>1.0397</td>\n",
       "      <td>0.0095</td>\n",
       "      <td>NaN</td>\n",
       "      <td>NaN</td>\n",
       "    </tr>\n",
       "  </tbody>\n",
       "</table>\n",
       "</div>"
      ],
      "text/plain": [
       "              0     1        2        3   4   5   6       7       8       9   \\\n",
       "6647230  YPR198W  SGE1  YPR197C  YPR197C NaN NaN NaN  1.0501  0.0111  1.0392   \n",
       "6647231  YPR198W  SGE1  YPR198W     SGE1 NaN NaN NaN  1.0501  0.0111  1.0501   \n",
       "6647232  YPR198W  SGE1  YPR199C     ARR1 NaN NaN NaN  1.0501  0.0111  1.0184   \n",
       "6647233  YPR198W  SGE1  YPR200C     ARR2 NaN NaN NaN  1.0501  0.0111  1.0329   \n",
       "6647234  YPR198W  SGE1  YPR201W     ARR3 NaN NaN NaN  1.0501  0.0111  1.0397   \n",
       "\n",
       "             10  11  12  \n",
       "6647230  0.0132 NaN NaN  \n",
       "6647231  0.0111 NaN NaN  \n",
       "6647232  0.0057 NaN NaN  \n",
       "6647233  0.0084 NaN NaN  \n",
       "6647234  0.0095 NaN NaN  "
      ]
     },
     "execution_count": 5,
     "metadata": {},
     "output_type": "execute_result"
    }
   ],
   "source": [
    "df.tail()"
   ]
  },
  {
   "cell_type": "markdown",
   "metadata": {},
   "source": [
    "What is this dataset? There are 12 columns in the dataset. \n",
    "\n",
    "#### Description of Genes\n",
    "\n",
    "Query ORF \n",
    "\n",
    "Query gene name\n",
    "\n",
    "Array ORF\n",
    "\n",
    "Array gene name\n",
    "\n",
    "\n",
    "#### Quantizing the Interaction\n",
    "\n",
    "Genetic interaction score (ε)\n",
    "\n",
    "Standard deviation\n",
    "\n",
    "p-value\n",
    "\n",
    "Query single mutant fitness (SMF)\n",
    "\n",
    "Query SMF standard deviation\n",
    "\n",
    "Array SMF\n",
    "\n",
    "Array SMF standard deviation\n",
    "\n",
    "Double mutant fitness\n",
    "\n",
    "Double mutant fitness standard deviation"
   ]
  },
  {
   "cell_type": "markdown",
   "metadata": {},
   "source": [
    "### Preprocessing"
   ]
  },
  {
   "cell_type": "code",
   "execution_count": 6,
   "metadata": {
    "collapsed": false
   },
   "outputs": [
    {
     "data": {
      "text/plain": [
       "6647235"
      ]
     },
     "execution_count": 6,
     "metadata": {},
     "output_type": "execute_result"
    }
   ],
   "source": [
    "len(df)"
   ]
  },
  {
   "cell_type": "code",
   "execution_count": 7,
   "metadata": {
    "collapsed": false
   },
   "outputs": [
    {
     "data": {
      "text/plain": [
       "6651120"
      ]
     },
     "execution_count": 7,
     "metadata": {},
     "output_type": "execute_result"
    }
   ],
   "source": [
    " 1712 * 3885 "
   ]
  },
  {
   "cell_type": "code",
   "execution_count": 8,
   "metadata": {
    "collapsed": false
   },
   "outputs": [
    {
     "data": {
      "text/html": [
       "<div>\n",
       "<table border=\"1\" class=\"dataframe\">\n",
       "  <thead>\n",
       "    <tr style=\"text-align: right;\">\n",
       "      <th></th>\n",
       "      <th>0</th>\n",
       "      <th>1</th>\n",
       "      <th>2</th>\n",
       "      <th>3</th>\n",
       "      <th>4</th>\n",
       "      <th>5</th>\n",
       "      <th>6</th>\n",
       "      <th>7</th>\n",
       "      <th>8</th>\n",
       "      <th>9</th>\n",
       "      <th>10</th>\n",
       "      <th>11</th>\n",
       "      <th>12</th>\n",
       "    </tr>\n",
       "  </thead>\n",
       "  <tbody>\n",
       "    <tr>\n",
       "      <th>0</th>\n",
       "      <td>YAL063C</td>\n",
       "      <td>FLO9</td>\n",
       "      <td>YAL068C</td>\n",
       "      <td>PAU8</td>\n",
       "      <td>NaN</td>\n",
       "      <td>NaN</td>\n",
       "      <td>NaN</td>\n",
       "      <td>1.1026</td>\n",
       "      <td>0.0119</td>\n",
       "      <td>1.0353</td>\n",
       "      <td>0.0081</td>\n",
       "      <td>NaN</td>\n",
       "      <td>NaN</td>\n",
       "    </tr>\n",
       "    <tr>\n",
       "      <th>1</th>\n",
       "      <td>YAL063C</td>\n",
       "      <td>FLO9</td>\n",
       "      <td>YAL067C</td>\n",
       "      <td>SEO1</td>\n",
       "      <td>NaN</td>\n",
       "      <td>NaN</td>\n",
       "      <td>NaN</td>\n",
       "      <td>1.1026</td>\n",
       "      <td>0.0119</td>\n",
       "      <td>1.0204</td>\n",
       "      <td>0.0064</td>\n",
       "      <td>NaN</td>\n",
       "      <td>NaN</td>\n",
       "    </tr>\n",
       "    <tr>\n",
       "      <th>2</th>\n",
       "      <td>YAL063C</td>\n",
       "      <td>FLO9</td>\n",
       "      <td>YAL066W</td>\n",
       "      <td>YAL066W</td>\n",
       "      <td>NaN</td>\n",
       "      <td>NaN</td>\n",
       "      <td>NaN</td>\n",
       "      <td>1.1026</td>\n",
       "      <td>0.0119</td>\n",
       "      <td>1.0610</td>\n",
       "      <td>0.0108</td>\n",
       "      <td>NaN</td>\n",
       "      <td>NaN</td>\n",
       "    </tr>\n",
       "    <tr>\n",
       "      <th>3</th>\n",
       "      <td>YAL063C</td>\n",
       "      <td>FLO9</td>\n",
       "      <td>YAL065C</td>\n",
       "      <td>YAL065C</td>\n",
       "      <td>NaN</td>\n",
       "      <td>NaN</td>\n",
       "      <td>NaN</td>\n",
       "      <td>1.1026</td>\n",
       "      <td>0.0119</td>\n",
       "      <td>1.0532</td>\n",
       "      <td>0.0085</td>\n",
       "      <td>NaN</td>\n",
       "      <td>NaN</td>\n",
       "    </tr>\n",
       "    <tr>\n",
       "      <th>4</th>\n",
       "      <td>YAL063C</td>\n",
       "      <td>FLO9</td>\n",
       "      <td>YAL064C-A</td>\n",
       "      <td>YAL064C-A</td>\n",
       "      <td>NaN</td>\n",
       "      <td>NaN</td>\n",
       "      <td>NaN</td>\n",
       "      <td>1.1026</td>\n",
       "      <td>0.0119</td>\n",
       "      <td>1.0210</td>\n",
       "      <td>0.0077</td>\n",
       "      <td>NaN</td>\n",
       "      <td>NaN</td>\n",
       "    </tr>\n",
       "  </tbody>\n",
       "</table>\n",
       "</div>"
      ],
      "text/plain": [
       "        0     1          2          3   4   5   6       7       8       9   \\\n",
       "0  YAL063C  FLO9    YAL068C       PAU8 NaN NaN NaN  1.1026  0.0119  1.0353   \n",
       "1  YAL063C  FLO9    YAL067C       SEO1 NaN NaN NaN  1.1026  0.0119  1.0204   \n",
       "2  YAL063C  FLO9    YAL066W    YAL066W NaN NaN NaN  1.1026  0.0119  1.0610   \n",
       "3  YAL063C  FLO9    YAL065C    YAL065C NaN NaN NaN  1.1026  0.0119  1.0532   \n",
       "4  YAL063C  FLO9  YAL064C-A  YAL064C-A NaN NaN NaN  1.1026  0.0119  1.0210   \n",
       "\n",
       "       10  11  12  \n",
       "0  0.0081 NaN NaN  \n",
       "1  0.0064 NaN NaN  \n",
       "2  0.0108 NaN NaN  \n",
       "3  0.0085 NaN NaN  \n",
       "4  0.0077 NaN NaN  "
      ]
     },
     "execution_count": 8,
     "metadata": {},
     "output_type": "execute_result"
    }
   ],
   "source": [
    "df.head()"
   ]
  },
  {
   "cell_type": "code",
   "execution_count": 9,
   "metadata": {
    "collapsed": true
   },
   "outputs": [],
   "source": [
    "df2 = df.ix[:, [0,2,4,5,6]]"
   ]
  },
  {
   "cell_type": "code",
   "execution_count": 10,
   "metadata": {
    "collapsed": false
   },
   "outputs": [
    {
     "data": {
      "text/html": [
       "<div>\n",
       "<table border=\"1\" class=\"dataframe\">\n",
       "  <thead>\n",
       "    <tr style=\"text-align: right;\">\n",
       "      <th></th>\n",
       "      <th>QueryORF</th>\n",
       "      <th>ArrayORF</th>\n",
       "      <th>Score</th>\n",
       "      <th>Std-Dev</th>\n",
       "      <th>P-Val</th>\n",
       "    </tr>\n",
       "  </thead>\n",
       "  <tbody>\n",
       "    <tr>\n",
       "      <th>0</th>\n",
       "      <td>YAL063C</td>\n",
       "      <td>YAL068C</td>\n",
       "      <td>NaN</td>\n",
       "      <td>NaN</td>\n",
       "      <td>NaN</td>\n",
       "    </tr>\n",
       "    <tr>\n",
       "      <th>1</th>\n",
       "      <td>YAL063C</td>\n",
       "      <td>YAL067C</td>\n",
       "      <td>NaN</td>\n",
       "      <td>NaN</td>\n",
       "      <td>NaN</td>\n",
       "    </tr>\n",
       "    <tr>\n",
       "      <th>2</th>\n",
       "      <td>YAL063C</td>\n",
       "      <td>YAL066W</td>\n",
       "      <td>NaN</td>\n",
       "      <td>NaN</td>\n",
       "      <td>NaN</td>\n",
       "    </tr>\n",
       "    <tr>\n",
       "      <th>3</th>\n",
       "      <td>YAL063C</td>\n",
       "      <td>YAL065C</td>\n",
       "      <td>NaN</td>\n",
       "      <td>NaN</td>\n",
       "      <td>NaN</td>\n",
       "    </tr>\n",
       "    <tr>\n",
       "      <th>4</th>\n",
       "      <td>YAL063C</td>\n",
       "      <td>YAL064C-A</td>\n",
       "      <td>NaN</td>\n",
       "      <td>NaN</td>\n",
       "      <td>NaN</td>\n",
       "    </tr>\n",
       "  </tbody>\n",
       "</table>\n",
       "</div>"
      ],
      "text/plain": [
       "  QueryORF   ArrayORF  Score  Std-Dev  P-Val\n",
       "0  YAL063C    YAL068C    NaN      NaN    NaN\n",
       "1  YAL063C    YAL067C    NaN      NaN    NaN\n",
       "2  YAL063C    YAL066W    NaN      NaN    NaN\n",
       "3  YAL063C    YAL065C    NaN      NaN    NaN\n",
       "4  YAL063C  YAL064C-A    NaN      NaN    NaN"
      ]
     },
     "execution_count": 10,
     "metadata": {},
     "output_type": "execute_result"
    }
   ],
   "source": [
    "df2.columns = [\"QueryORF\", \"ArrayORF\", \"Score\", \"Std-Dev\", \"P-Val\"]\n",
    "df2.head()"
   ]
  },
  {
   "cell_type": "code",
   "execution_count": 11,
   "metadata": {
    "collapsed": false
   },
   "outputs": [],
   "source": [
    "df3 = df2.dropna(subset = [\"Score\"])"
   ]
  },
  {
   "cell_type": "code",
   "execution_count": 12,
   "metadata": {
    "collapsed": false
   },
   "outputs": [
    {
     "data": {
      "text/html": [
       "<div>\n",
       "<table border=\"1\" class=\"dataframe\">\n",
       "  <thead>\n",
       "    <tr style=\"text-align: right;\">\n",
       "      <th></th>\n",
       "      <th>QueryORF</th>\n",
       "      <th>ArrayORF</th>\n",
       "      <th>Score</th>\n",
       "      <th>Std-Dev</th>\n",
       "      <th>P-Val</th>\n",
       "    </tr>\n",
       "  </thead>\n",
       "  <tbody>\n",
       "    <tr>\n",
       "      <th>68</th>\n",
       "      <td>YAL063C</td>\n",
       "      <td>YBL106C</td>\n",
       "      <td>-0.0107</td>\n",
       "      <td>0.0148</td>\n",
       "      <td>0.33360</td>\n",
       "    </tr>\n",
       "    <tr>\n",
       "      <th>73</th>\n",
       "      <td>YAL063C</td>\n",
       "      <td>YBL100C</td>\n",
       "      <td>-0.0169</td>\n",
       "      <td>0.0134</td>\n",
       "      <td>0.20687</td>\n",
       "    </tr>\n",
       "    <tr>\n",
       "      <th>74</th>\n",
       "      <td>YAL063C</td>\n",
       "      <td>YBL098W</td>\n",
       "      <td>-0.0306</td>\n",
       "      <td>0.0472</td>\n",
       "      <td>0.29083</td>\n",
       "    </tr>\n",
       "    <tr>\n",
       "      <th>75</th>\n",
       "      <td>YAL063C</td>\n",
       "      <td>YBL096C</td>\n",
       "      <td>-0.0396</td>\n",
       "      <td>0.0786</td>\n",
       "      <td>0.30134</td>\n",
       "    </tr>\n",
       "    <tr>\n",
       "      <th>76</th>\n",
       "      <td>YAL063C</td>\n",
       "      <td>YBL095W</td>\n",
       "      <td>-0.0319</td>\n",
       "      <td>0.0191</td>\n",
       "      <td>0.12602</td>\n",
       "    </tr>\n",
       "  </tbody>\n",
       "</table>\n",
       "</div>"
      ],
      "text/plain": [
       "   QueryORF ArrayORF   Score  Std-Dev    P-Val\n",
       "68  YAL063C  YBL106C -0.0107   0.0148  0.33360\n",
       "73  YAL063C  YBL100C -0.0169   0.0134  0.20687\n",
       "74  YAL063C  YBL098W -0.0306   0.0472  0.29083\n",
       "75  YAL063C  YBL096C -0.0396   0.0786  0.30134\n",
       "76  YAL063C  YBL095W -0.0319   0.0191  0.12602"
      ]
     },
     "execution_count": 12,
     "metadata": {},
     "output_type": "execute_result"
    }
   ],
   "source": [
    "df3.head()"
   ]
  },
  {
   "cell_type": "code",
   "execution_count": 13,
   "metadata": {
    "collapsed": false
   },
   "outputs": [
    {
     "name": "stdout",
     "output_type": "stream",
     "text": [
      "<class 'pandas.core.frame.DataFrame'>\n",
      "Int64Index: 6002018 entries, 68 to 6647161\n",
      "Data columns (total 5 columns):\n",
      "QueryORF    object\n",
      "ArrayORF    object\n",
      "Score       float64\n",
      "Std-Dev     float64\n",
      "P-Val       float64\n",
      "dtypes: float64(3), object(2)\n",
      "memory usage: 274.8+ MB\n"
     ]
    }
   ],
   "source": [
    "df3.info()"
   ]
  },
  {
   "cell_type": "code",
   "execution_count": 14,
   "metadata": {
    "collapsed": false
   },
   "outputs": [
    {
     "data": {
      "text/plain": [
       "1711"
      ]
     },
     "execution_count": 14,
     "metadata": {},
     "output_type": "execute_result"
    }
   ],
   "source": [
    "len(df3[\"QueryORF\"].unique())"
   ]
  },
  {
   "cell_type": "code",
   "execution_count": 92,
   "metadata": {
    "collapsed": false
   },
   "outputs": [
    {
     "data": {
      "text/plain": [
       "['YAL063C',\n",
       " 'YAL060W',\n",
       " 'YAL059W',\n",
       " 'YAL058W',\n",
       " 'YAL056W',\n",
       " 'YAL043C_damp',\n",
       " 'YAL042W',\n",
       " 'YAL041W_tsq412',\n",
       " 'YAL041W_tsq149',\n",
       " 'YAL041W_tsq148',\n",
       " 'YAL038W_tsq26',\n",
       " 'YAL034W-A_tsq235',\n",
       " 'YAL030W',\n",
       " 'YAL025C_damp',\n",
       " 'YAL021C_damp',\n",
       " 'YAL021C',\n",
       " 'YAL020C',\n",
       " 'YAL013W',\n",
       " 'YAL012W',\n",
       " 'YAL011W',\n",
       " 'YAL010C',\n",
       " 'YAL002W',\n",
       " 'YAR002W',\n",
       " 'YAR003W',\n",
       " 'YAR029W',\n",
       " 'YAR071W',\n",
       " 'YBL105C_tsq539',\n",
       " 'YBL105C_tsq535',\n",
       " 'YBL103C',\n",
       " 'YBL102W',\n",
       " 'YBL098W',\n",
       " 'YBL089W',\n",
       " 'YBL087C',\n",
       " 'YBL084C_tsq92',\n",
       " 'YBL079W',\n",
       " 'YBL078C',\n",
       " 'YBL075C',\n",
       " 'YBL064C',\n",
       " 'YBL061C',\n",
       " 'YBL058W',\n",
       " 'YBL057C',\n",
       " 'YBL050W_tsq48',\n",
       " 'YBL047C',\n",
       " 'YBL039C',\n",
       " 'YBL037W',\n",
       " 'YBL035C_tsq365',\n",
       " 'YBL034C_tsq822',\n",
       " 'YBL034C_tsq274',\n",
       " 'YBL032W',\n",
       " 'YBL031W',\n",
       " 'YBL023C_tsq111',\n",
       " 'YBL021C',\n",
       " 'YBL015W',\n",
       " 'YBL008W',\n",
       " 'YBL007C',\n",
       " 'YBL003C',\n",
       " 'YBR001C',\n",
       " 'YBR007C',\n",
       " 'YBR009C',\n",
       " 'YBR010W',\n",
       " 'YBR016W',\n",
       " 'YBR019C',\n",
       " 'YBR024W',\n",
       " 'YBR026C',\n",
       " 'YBR033W',\n",
       " 'YBR034C',\n",
       " 'YBR037C',\n",
       " 'YBR042C',\n",
       " 'YBR045C',\n",
       " 'YBR048W',\n",
       " 'YBR054W',\n",
       " 'YBR055C_tsq455',\n",
       " 'YBR058C',\n",
       " 'YBR059C',\n",
       " 'YBR060C_tsq331',\n",
       " 'YBR060C_tsq295',\n",
       " 'YBR060C_tsq311',\n",
       " 'YBR060C_tsq309',\n",
       " 'YBR065C',\n",
       " 'YBR066C',\n",
       " 'YBR068C',\n",
       " 'YBR069C',\n",
       " 'YBR073W',\n",
       " 'YBR076W',\n",
       " 'YBR077C',\n",
       " 'YBR078W',\n",
       " 'YBR079C_damp',\n",
       " 'YBR080C_tsq57',\n",
       " 'YBR082C',\n",
       " 'YBR083W',\n",
       " 'YBR087W_tsq887',\n",
       " 'YBR092C',\n",
       " 'YBR093C',\n",
       " 'YBR094W',\n",
       " 'YBR098W',\n",
       " 'YBR104W',\n",
       " 'YBR105C',\n",
       " 'YBR109C_tsq157',\n",
       " 'YBR110W_tsq177',\n",
       " 'YBR111W-A',\n",
       " 'YBR112C_damp',\n",
       " 'YBR112C',\n",
       " 'YBR119W',\n",
       " 'YBR123C_tsq568',\n",
       " 'YBR128C',\n",
       " 'YBR131W',\n",
       " 'YBR141C',\n",
       " 'YBR152W_damp',\n",
       " 'YBR160W_tsq175',\n",
       " 'YBR164C',\n",
       " 'YBR165W',\n",
       " 'YBR169C',\n",
       " 'YBR171W',\n",
       " 'YBR180W',\n",
       " 'YBR181C',\n",
       " 'YBR193C_tsq741',\n",
       " 'YBR196C_tsq94',\n",
       " 'YBR198C_tsq509',\n",
       " 'YBR198C_tsq512',\n",
       " 'YBR200W',\n",
       " 'YBR201W',\n",
       " 'YBR205W',\n",
       " 'YBR208C',\n",
       " 'YBR210W',\n",
       " 'YBR211C_tsq716',\n",
       " 'YBR214W',\n",
       " 'YBR222C',\n",
       " 'YBR227C',\n",
       " 'YBR228W',\n",
       " 'YBR235W',\n",
       " 'YBR236C_tsq78',\n",
       " 'YBR238C',\n",
       " 'YBR244W',\n",
       " 'YBR247C_tsq542',\n",
       " 'YBR249C',\n",
       " 'YBR257W_damp',\n",
       " 'YBR260C',\n",
       " 'YBR263W',\n",
       " 'YBR264C',\n",
       " 'YBR265W_tsq543',\n",
       " 'YBR267W',\n",
       " 'YBR270C',\n",
       " 'YBR274W',\n",
       " 'YBR276C',\n",
       " 'YBR278W',\n",
       " 'YBR288C',\n",
       " 'YBR289W',\n",
       " 'YBR293W',\n",
       " 'YBR294W',\n",
       " 'YBR295W',\n",
       " 'YBR298C',\n",
       " 'YCL069W',\n",
       " 'YCL064C',\n",
       " 'YCL061C',\n",
       " 'YCL048W',\n",
       " 'YCL044C',\n",
       " 'YCL029C',\n",
       " 'YCL016C',\n",
       " 'YCL011C',\n",
       " 'YCL009C',\n",
       " 'YCL008C',\n",
       " 'YCL005W-A',\n",
       " 'YCL004W_damp',\n",
       " 'YCR002C_tsq84',\n",
       " 'YCR012W_damp',\n",
       " 'YCR016W',\n",
       " 'YCR021C',\n",
       " 'YCR027C',\n",
       " 'YCR028C-A',\n",
       " 'YCR033W',\n",
       " 'YCR053W',\n",
       " 'YCR059C',\n",
       " 'YCR065W',\n",
       " 'YCR066W',\n",
       " 'YCR073W-A',\n",
       " 'YCR075C',\n",
       " 'YCR077C',\n",
       " 'YCR086W',\n",
       " 'YCR088W',\n",
       " 'YCR091W',\n",
       " 'YCR094W',\n",
       " 'YCR104W',\n",
       " 'YCR106W',\n",
       " 'YCR107W',\n",
       " 'YDL246C',\n",
       " 'YDL245C',\n",
       " 'YDL244W',\n",
       " 'YDL236W',\n",
       " 'YDL233W',\n",
       " 'YDL230W',\n",
       " 'YDL229W',\n",
       " 'YDL226C',\n",
       " 'YDL225W',\n",
       " 'YDL222C',\n",
       " 'YDL217C_tsq714',\n",
       " 'YDL216C',\n",
       " 'YDL215C',\n",
       " 'YDL212W_damp',\n",
       " 'YDL192W',\n",
       " 'YDL185W',\n",
       " 'YDL182W',\n",
       " 'YDL181W',\n",
       " 'YDL178W',\n",
       " 'YDL174C',\n",
       " 'YDL168W',\n",
       " 'YDL150W_damp',\n",
       " 'YDL145C_tsq704',\n",
       " 'YDL141W_damp',\n",
       " 'YDL140C_tsq804',\n",
       " 'YDL137W',\n",
       " 'YDL136W',\n",
       " 'YDL135C',\n",
       " 'YDL134C',\n",
       " 'YDL133W',\n",
       " 'YDL130W-A',\n",
       " 'YDL126C_tsq209',\n",
       " 'YDL126C_tsq208',\n",
       " 'YDL122W',\n",
       " 'YDL120W_damp',\n",
       " 'YDL117W',\n",
       " 'YDL115C',\n",
       " 'YDL112W',\n",
       " 'YDL110C',\n",
       " 'YDL107W',\n",
       " 'YDL103C_tsq859',\n",
       " 'YDL102W_tsq135',\n",
       " 'YDL102W_tsq17',\n",
       " 'YDL101C',\n",
       " 'YDL100C',\n",
       " 'YDL098C_damp',\n",
       " 'YDL091C',\n",
       " 'YDL089W',\n",
       " 'YDL088C',\n",
       " 'YDL082W',\n",
       " 'YDL077C',\n",
       " 'YDL074C',\n",
       " 'YDL066W',\n",
       " 'YDL061C',\n",
       " 'YDL058W_tsq441',\n",
       " 'YDL051W',\n",
       " 'YDL039C',\n",
       " 'YDL036C',\n",
       " 'YDL035C',\n",
       " 'YDL029W_tsq886',\n",
       " 'YDL028C_tsq166',\n",
       " 'YDL028C_tsq169',\n",
       " 'YDL020C',\n",
       " 'YDL017W_tsq880',\n",
       " 'YDL017W_tsq131',\n",
       " 'YDL015C_damp',\n",
       " 'YDL008W_damp',\n",
       " 'YDL007W_damp',\n",
       " 'YDL006W',\n",
       " 'YDL005C',\n",
       " 'YDL003W_tsq62',\n",
       " 'YDL001W',\n",
       " 'YDR001C',\n",
       " 'YDR002W_tsq582',\n",
       " 'YDR004W',\n",
       " 'YDR005C',\n",
       " 'YDR009W',\n",
       " 'YDR013W_tsq583',\n",
       " 'YDR014W',\n",
       " 'YDR021W_damp',\n",
       " 'YDR022C',\n",
       " 'YDR031W',\n",
       " 'YDR032C',\n",
       " 'YDR033W',\n",
       " 'YDR035W',\n",
       " 'YDR037W_damp',\n",
       " 'YDR043C',\n",
       " 'YDR044W_damp',\n",
       " 'YDR052C_tsq163',\n",
       " 'YDR060W_tsq249',\n",
       " 'YDR062W_damp',\n",
       " 'YDR069C_damp',\n",
       " 'YDR070C',\n",
       " 'YDR071C',\n",
       " 'YDR072C',\n",
       " 'YDR074W',\n",
       " 'YDR080W',\n",
       " 'YDR083W',\n",
       " 'YDR087C_tsq181',\n",
       " 'YDR088C_tsq656',\n",
       " 'YDR091C_damp',\n",
       " 'YDR101C',\n",
       " 'YDR104C',\n",
       " 'YDR105C',\n",
       " 'YDR108W',\n",
       " 'YDR110W',\n",
       " 'YDR111C',\n",
       " 'YDR113C_tsq862',\n",
       " 'YDR120C',\n",
       " 'YDR121W',\n",
       " 'YDR122W',\n",
       " 'YDR123C',\n",
       " 'YDR124W',\n",
       " 'YDR126W',\n",
       " 'YDR127W',\n",
       " 'YDR130C',\n",
       " 'YDR131C',\n",
       " 'YDR137W',\n",
       " 'YDR139C',\n",
       " 'YDR145W_tsq515',\n",
       " 'YDR148C',\n",
       " 'YDR150W',\n",
       " 'YDR151C',\n",
       " 'YDR153C',\n",
       " 'YDR156W',\n",
       " 'YDR158W',\n",
       " 'YDR159W',\n",
       " 'YDR160W_damp',\n",
       " 'YDR162C',\n",
       " 'YDR165W',\n",
       " 'YDR168W_tsq317',\n",
       " 'YDR168W_tsq315',\n",
       " 'YDR174W',\n",
       " 'YDR178W',\n",
       " 'YDR180W_tsq69',\n",
       " 'YDR181C',\n",
       " 'YDR182W_tsq413',\n",
       " 'YDR184C',\n",
       " 'YDR185C',\n",
       " 'YDR189W_tsq251',\n",
       " 'YDR190C_damp',\n",
       " 'YDR191W',\n",
       " 'YDR192C',\n",
       " 'YDR197W',\n",
       " 'YDR200C',\n",
       " 'YDR202C',\n",
       " 'YDR207C',\n",
       " 'YDR210W',\n",
       " 'YDR212W_tsq448',\n",
       " 'YDR213W',\n",
       " 'YDR214W',\n",
       " 'YDR217C',\n",
       " 'YDR219C',\n",
       " 'YDR223W',\n",
       " 'YDR225W',\n",
       " 'YDR228C_tsq686',\n",
       " 'YDR228C_tsq685',\n",
       " 'YDR243C_tsq574',\n",
       " 'YDR244W',\n",
       " 'YDR247W',\n",
       " 'YDR253C',\n",
       " 'YDR254W',\n",
       " 'YDR256C',\n",
       " 'YDR257C',\n",
       " 'YDR258C',\n",
       " 'YDR260C',\n",
       " 'YDR261C',\n",
       " 'YDR264C',\n",
       " 'YDR276C',\n",
       " 'YDR277C',\n",
       " 'YDR279W',\n",
       " 'YDR283C',\n",
       " 'YDR287W',\n",
       " 'YDR289C',\n",
       " 'YDR292C_damp',\n",
       " 'YDR293C',\n",
       " 'YDR297W',\n",
       " 'YDR298C',\n",
       " 'YDR305C',\n",
       " 'YDR309C',\n",
       " 'YDR312W',\n",
       " 'YDR314C',\n",
       " 'YDR315C',\n",
       " 'YDR316W',\n",
       " 'YDR318W',\n",
       " 'YDR322C-A',\n",
       " 'YDR329C',\n",
       " 'YDR330W',\n",
       " 'YDR331W_tsq371',\n",
       " 'YDR332W',\n",
       " 'YDR334W',\n",
       " 'YDR335W',\n",
       " 'YDR346C',\n",
       " 'YDR358W',\n",
       " 'YDR363W',\n",
       " 'YDR363W-A',\n",
       " 'YDR369C',\n",
       " 'YDR375C',\n",
       " 'YDR379W',\n",
       " 'YDR382W',\n",
       " 'YDR385W',\n",
       " 'YDR386W',\n",
       " 'YDR388W_damp',\n",
       " 'YDR392W',\n",
       " 'YDR394W_tsq785',\n",
       " 'YDR399W',\n",
       " 'YDR402C',\n",
       " 'YDR411C',\n",
       " 'YDR414C',\n",
       " 'YDR419W',\n",
       " 'YDR420W',\n",
       " 'YDR422C',\n",
       " 'YDR435C',\n",
       " 'YDR438W',\n",
       " 'YDR439W',\n",
       " 'YDR440W',\n",
       " 'YDR448W',\n",
       " 'YDR453C',\n",
       " 'YDR457W',\n",
       " 'YDR465C',\n",
       " 'YDR466W',\n",
       " 'YDR472W_damp',\n",
       " 'YDR477W',\n",
       " 'YDR479C',\n",
       " 'YDR485C',\n",
       " 'YDR488C',\n",
       " 'YDR492W',\n",
       " 'YDR495C',\n",
       " 'YDR497C',\n",
       " 'YDR500C',\n",
       " 'YDR502C',\n",
       " 'YDR505C',\n",
       " 'YDR507C',\n",
       " 'YDR510W_damp',\n",
       " 'YDR511W',\n",
       " 'YDR512C',\n",
       " 'YDR513W',\n",
       " 'YDR514C',\n",
       " 'YDR515W',\n",
       " 'YDR516C',\n",
       " 'YDR518W',\n",
       " 'YDR522C',\n",
       " 'YDR531W_damp',\n",
       " 'YDR534C',\n",
       " 'YDR536W',\n",
       " 'YDR542W',\n",
       " 'YEL070W',\n",
       " 'YEL065W',\n",
       " 'YEL061C',\n",
       " 'YEL060C',\n",
       " 'YEL057C',\n",
       " 'YEL055C_tsq594',\n",
       " 'YEL055C_tsq595',\n",
       " 'YEL051W',\n",
       " 'YEL050C',\n",
       " 'YEL047C',\n",
       " 'YEL040W',\n",
       " 'YEL038W',\n",
       " 'YEL037C',\n",
       " 'YEL036C',\n",
       " 'YEL034W_tsq736',\n",
       " 'YEL031W',\n",
       " 'YEL030W_damp',\n",
       " 'YEL027W',\n",
       " 'YEL024W',\n",
       " 'YEL020C',\n",
       " 'YEL018W',\n",
       " 'YEL017C-A',\n",
       " 'YEL016C',\n",
       " 'YEL012W',\n",
       " 'YEL011W',\n",
       " 'YEL006W',\n",
       " 'YEL003W_damp',\n",
       " 'YEL003W',\n",
       " 'YEL002C_tsq590',\n",
       " 'YEL002C_tsq581',\n",
       " 'YER002W',\n",
       " 'YER004W',\n",
       " 'YER005W',\n",
       " 'YER006W_tsq786',\n",
       " 'YER007C-A',\n",
       " 'YER008C',\n",
       " 'YER013W_tsq237',\n",
       " 'YER015W',\n",
       " 'YER016W',\n",
       " 'YER017C',\n",
       " 'YER019C-A',\n",
       " 'YER022W_tsq519',\n",
       " 'YER030W',\n",
       " 'YER031C',\n",
       " 'YER032W',\n",
       " 'YER033C',\n",
       " 'YER035W',\n",
       " 'YER037W',\n",
       " 'YER049W',\n",
       " 'YER052C',\n",
       " 'YER059W',\n",
       " 'YER061C',\n",
       " 'YER062C',\n",
       " 'YER072W',\n",
       " 'YER073W',\n",
       " 'YER075C',\n",
       " 'YER083C',\n",
       " 'YER086W',\n",
       " 'YER087C-B',\n",
       " 'YER088C',\n",
       " 'YER089C',\n",
       " 'YER090W',\n",
       " 'YER091C',\n",
       " 'YER093C_tsq658',\n",
       " 'YER095W',\n",
       " 'YER096W',\n",
       " 'YER100W',\n",
       " 'YER105C',\n",
       " 'YER107C',\n",
       " 'YER110C_damp',\n",
       " 'YER111C',\n",
       " 'YER112W_damp',\n",
       " 'YER114C',\n",
       " 'YER118C',\n",
       " 'YER120W',\n",
       " 'YER125W_tsq465',\n",
       " 'YER133W_damp',\n",
       " 'YER145C',\n",
       " 'YER150W',\n",
       " 'YER151C',\n",
       " 'YER153C',\n",
       " 'YER155C',\n",
       " 'YER157W_tsq44',\n",
       " 'YER161C',\n",
       " 'YER162C',\n",
       " 'YER172C_damp',\n",
       " 'YER173W',\n",
       " 'YER177W',\n",
       " 'YER178W',\n",
       " 'YER180C-A',\n",
       " 'YFL057C',\n",
       " 'YFL041W',\n",
       " 'YFL040W',\n",
       " 'YFL039C_tsq142',\n",
       " 'YFL039C_tsq77',\n",
       " 'YFL039C_tsq218',\n",
       " 'YFL039C_tsq140',\n",
       " 'YFL039C_tsq223',\n",
       " 'YFL039C_tsq64',\n",
       " 'YFL033C',\n",
       " 'YFL031W',\n",
       " 'YFL027C',\n",
       " 'YFL025C',\n",
       " 'YFL023W',\n",
       " 'YFL011W',\n",
       " 'YFL009W_tsq334',\n",
       " 'YFL009W_tsq415',\n",
       " 'YFL008W_tsq321',\n",
       " 'YFL008W_tsq71',\n",
       " 'YFL001W',\n",
       " 'YFR002W_damp',\n",
       " 'YFR003C_damp',\n",
       " 'YFR004W_tsq534',\n",
       " 'YFR008W',\n",
       " 'YFR010W',\n",
       " 'YFR022W',\n",
       " 'YFR028C_tsq416',\n",
       " 'YFR029W_damp',\n",
       " 'YFR033C',\n",
       " 'YFR036W_tsq91',\n",
       " 'YFR038W',\n",
       " 'YFR049W',\n",
       " 'YFR051C_tsq823',\n",
       " 'YFR052W_tsq405',\n",
       " 'YFR053C',\n",
       " 'YGL261C',\n",
       " 'YGL257C',\n",
       " 'YGL253W',\n",
       " 'YGL252C',\n",
       " 'YGL244W',\n",
       " 'YGL237C',\n",
       " 'YGL236C',\n",
       " 'YGL233W_tsq43',\n",
       " 'YGL227W',\n",
       " 'YGL224C',\n",
       " 'YGL216W',\n",
       " 'YGL213C',\n",
       " 'YGL212W',\n",
       " 'YGL211W',\n",
       " 'YGL210W',\n",
       " 'YGL205W',\n",
       " 'YGL200C',\n",
       " 'YGL195W',\n",
       " 'YGL194C',\n",
       " 'YGL191W',\n",
       " 'YGL187C',\n",
       " 'YGL184C',\n",
       " 'YGL183C',\n",
       " 'YGL180W',\n",
       " 'YGL179C',\n",
       " 'YGL175C',\n",
       " 'YGL173C',\n",
       " 'YGL168W',\n",
       " 'YGL167C',\n",
       " 'YGL163C',\n",
       " 'YGL162W',\n",
       " 'YGL160W',\n",
       " 'YGL158W',\n",
       " 'YGL155W_tsq333',\n",
       " 'YGL150C_damp',\n",
       " 'YGL148W',\n",
       " 'YGL144C',\n",
       " 'YGL137W_tsq546',\n",
       " 'YGL135W',\n",
       " 'YGL130W_tsq355',\n",
       " 'YGL128C_damp',\n",
       " 'YGL127C',\n",
       " 'YGL126W',\n",
       " 'YGL116W_tsq368',\n",
       " 'YGL112C_tsq608',\n",
       " 'YGL105W',\n",
       " 'YGL100W',\n",
       " 'YGL098W_tsq592',\n",
       " 'YGL097W_tsq958',\n",
       " 'YGL095C',\n",
       " 'YGL086W',\n",
       " 'YGL078C',\n",
       " 'YGL077C',\n",
       " 'YGL066W',\n",
       " 'YGL061C_tsq239',\n",
       " 'YGL060W',\n",
       " 'YGL058W',\n",
       " 'YGL055W_tsq506',\n",
       " 'YGL054C',\n",
       " 'YGL051W',\n",
       " 'YGL045W',\n",
       " 'YGL044C_tsq652',\n",
       " 'YGL040C_damp',\n",
       " 'YGL027C',\n",
       " 'YGL022W_tsq544',\n",
       " 'YGL020C',\n",
       " 'YGL019W',\n",
       " 'YGL018C_damp',\n",
       " 'YGL013C',\n",
       " 'YGL009C',\n",
       " 'YGL008C_damp',\n",
       " 'YGL006W',\n",
       " 'YGL005C',\n",
       " 'YGL003C',\n",
       " 'YGL001C_tsq742',\n",
       " 'YGR004W',\n",
       " 'YGR006W_tsq434',\n",
       " 'YGR007W',\n",
       " 'YGR009C_tsq60',\n",
       " 'YGR012W',\n",
       " 'YGR021W',\n",
       " 'YGR024C_damp',\n",
       " 'YGR027C',\n",
       " 'YGR028W',\n",
       " 'YGR029W_damp',\n",
       " 'YGR034W',\n",
       " 'YGR040W',\n",
       " 'YGR043C',\n",
       " 'YGR048W_tsq677',\n",
       " 'YGR055W',\n",
       " 'YGR059W',\n",
       " 'YGR060W_damp',\n",
       " 'YGR061C',\n",
       " 'YGR070W',\n",
       " 'YGR072W',\n",
       " 'YGR081C',\n",
       " 'YGR083C_damp',\n",
       " 'YGR086C',\n",
       " 'YGR088W',\n",
       " 'YGR090W_damp',\n",
       " 'YGR091W_tsq472',\n",
       " 'YGR099W_tsq604',\n",
       " 'YGR105W',\n",
       " 'YGR108W',\n",
       " 'YGR112W',\n",
       " 'YGR113W_tsq243',\n",
       " 'YGR118W',\n",
       " 'YGR119C_tsq957',\n",
       " 'YGR120C_tsq187',\n",
       " 'YGR124W',\n",
       " 'YGR125W',\n",
       " 'YGR127W',\n",
       " 'YGR132C',\n",
       " 'YGR133W',\n",
       " 'YGR135W',\n",
       " 'YGR140W_tsq133',\n",
       " 'YGR142W',\n",
       " 'YGR155W',\n",
       " 'YGR157W',\n",
       " 'YGR161C',\n",
       " 'YGR166W',\n",
       " 'YGR170W',\n",
       " 'YGR174C',\n",
       " 'YGR178C',\n",
       " 'YGR181W',\n",
       " 'YGR183C',\n",
       " 'YGR184C',\n",
       " 'YGR185C_tsq290',\n",
       " 'YGR188C',\n",
       " 'YGR192C',\n",
       " 'YGR199W',\n",
       " 'YGR200C',\n",
       " 'YGR208W',\n",
       " 'YGR213C',\n",
       " 'YGR216C_tsq548',\n",
       " 'YGR218W_damp',\n",
       " 'YGR229C',\n",
       " 'YGR230W',\n",
       " 'YGR244C',\n",
       " 'YGR245C_tsq523',\n",
       " 'YGR248W',\n",
       " 'YGR252W',\n",
       " 'YGR262C',\n",
       " 'YGR266W',\n",
       " 'YGR270W',\n",
       " 'YGR274C_tsq524',\n",
       " 'YGR276C',\n",
       " 'YGR285C',\n",
       " 'YGR286C',\n",
       " 'YGR289C',\n",
       " 'YGR294W',\n",
       " 'YHL047C',\n",
       " 'YHL044W',\n",
       " 'YHL040C',\n",
       " 'YHL033C',\n",
       " 'YHL030W',\n",
       " 'YHL028W',\n",
       " 'YHL001W',\n",
       " 'YHR001W-A',\n",
       " 'YHR006W',\n",
       " 'YHR007C_tsq14',\n",
       " 'YHR007C_damp',\n",
       " 'YHR012W',\n",
       " 'YHR013C',\n",
       " 'YHR016C',\n",
       " 'YHR017W',\n",
       " 'YHR019C_damp',\n",
       " 'YHR020W_damp',\n",
       " 'YHR028C',\n",
       " 'YHR030C',\n",
       " 'YHR031C',\n",
       " 'YHR038W',\n",
       " 'YHR039C',\n",
       " 'YHR039C-A',\n",
       " 'YHR041C',\n",
       " 'YHR043C',\n",
       " 'YHR044C',\n",
       " 'YHR046C',\n",
       " 'YHR047C',\n",
       " 'YHR051W',\n",
       " 'YHR060W',\n",
       " 'YHR064C',\n",
       " 'YHR066W',\n",
       " 'YHR067W',\n",
       " 'YHR068W_damp',\n",
       " 'YHR076W',\n",
       " 'YHR077C',\n",
       " 'YHR083W_tsq493',\n",
       " 'YHR087W',\n",
       " 'YHR088W_damp',\n",
       " 'YHR092C',\n",
       " 'YHR094C',\n",
       " 'YHR103W',\n",
       " 'YHR104W',\n",
       " 'YHR107C_tsq33',\n",
       " 'YHR108W',\n",
       " 'YHR110W',\n",
       " 'YHR111W',\n",
       " 'YHR114W',\n",
       " 'YHR116W',\n",
       " 'YHR120W',\n",
       " 'YHR123W',\n",
       " 'YHR129C',\n",
       " 'YHR135C',\n",
       " 'YHR140W',\n",
       " 'YHR142W',\n",
       " 'YHR152W',\n",
       " 'YHR154W',\n",
       " 'YHR155W',\n",
       " 'YHR160C',\n",
       " 'YHR163W',\n",
       " 'YHR165C',\n",
       " 'YHR166C_tsq89',\n",
       " 'YHR167W',\n",
       " 'YHR174W',\n",
       " 'YHR176W',\n",
       " 'YHR179W',\n",
       " 'YHR181W',\n",
       " 'YHR185C',\n",
       " 'YHR187W',\n",
       " 'YHR188C_damp',\n",
       " 'YHR189W',\n",
       " 'YHR191C',\n",
       " 'YHR194W',\n",
       " 'YHR200W',\n",
       " 'YHR203C',\n",
       " 'YHR206W',\n",
       " 'YHR208W',\n",
       " 'YHR215W',\n",
       " 'YIL156W',\n",
       " 'YIL150C_tsq110',\n",
       " 'YIL149C',\n",
       " 'YIL138C',\n",
       " 'YIL137C',\n",
       " 'YIL134W',\n",
       " 'YIL133C',\n",
       " 'YIL132C',\n",
       " 'YIL121W',\n",
       " 'YIL120W',\n",
       " 'YIL119C',\n",
       " 'YIL106W_damp',\n",
       " 'YIL105C',\n",
       " 'YIL097W',\n",
       " 'YIL090W',\n",
       " 'YIL085C',\n",
       " 'YIL084C',\n",
       " 'YIL083C_damp',\n",
       " 'YIL078W_damp',\n",
       " 'YIL076W',\n",
       " 'YIL072W',\n",
       " 'YIL071C',\n",
       " 'YIL069C',\n",
       " 'YIL062C_tsq888',\n",
       " 'YIL053W',\n",
       " 'YIL051C_damp',\n",
       " 'YIL048W_tsq188',\n",
       " 'YIL047C',\n",
       " 'YIL046W_tsq939',\n",
       " 'YIL044C',\n",
       " 'YIL041W',\n",
       " 'YIL040W',\n",
       " 'YIL033C',\n",
       " 'YIL023C',\n",
       " 'YIL018W',\n",
       " 'YIL017C',\n",
       " 'YIL011W',\n",
       " 'YIL009C-A',\n",
       " 'YIL008W',\n",
       " 'YIL006W',\n",
       " 'YIL002C',\n",
       " 'YIR001C',\n",
       " 'YIR005W',\n",
       " 'YIR010W_tsq436',\n",
       " 'YIR010W_tsq435',\n",
       " 'YIR016W',\n",
       " 'YIR018W',\n",
       " 'YIR019C',\n",
       " 'YIR022W_tsq318',\n",
       " 'YIR023W',\n",
       " 'YIR025W',\n",
       " 'YIR027C',\n",
       " 'YIR030C',\n",
       " 'YIR041W',\n",
       " 'YJL217W',\n",
       " 'YJL214W',\n",
       " 'YJL213W',\n",
       " 'YJL212C',\n",
       " 'YJL206C',\n",
       " 'YJL205C',\n",
       " 'YJL203W_tsq401',\n",
       " 'YJL198W',\n",
       " 'YJL196C',\n",
       " 'YJL194W_tsq35',\n",
       " 'YJL192C',\n",
       " 'YJL187C',\n",
       " 'YJL183W',\n",
       " 'YJL180C',\n",
       " 'YJL176C',\n",
       " 'YJL168C',\n",
       " 'YJL166W_damp',\n",
       " 'YJL166W',\n",
       " 'YJL165C',\n",
       " 'YJL164C',\n",
       " 'YJL154C',\n",
       " 'YJL151C',\n",
       " 'YJL148W',\n",
       " 'YJL139C',\n",
       " 'YJL133W',\n",
       " 'YJL129C_damp',\n",
       " 'YJL128C',\n",
       " 'YJL124C',\n",
       " 'YJL115W',\n",
       " 'YJL105W',\n",
       " 'YJL101C',\n",
       " 'YJL099W',\n",
       " 'YJL098W',\n",
       " 'YJL095W',\n",
       " 'YJL093C',\n",
       " 'YJL092W',\n",
       " 'YJL091C_tsq655',\n",
       " 'YJL089W',\n",
       " 'YJL085W',\n",
       " 'YJL074C_tsq259',\n",
       " 'YJL074C_tsq63',\n",
       " 'YJL073W',\n",
       " 'YJL068C',\n",
       " 'YJL066C',\n",
       " 'YJL062W',\n",
       " 'YJL058C',\n",
       " 'YJL052W',\n",
       " 'YJL050W_tsq431',\n",
       " 'YJL048C',\n",
       " 'YJL047C',\n",
       " 'YJL046W',\n",
       " 'YJL045W',\n",
       " 'YJL044C',\n",
       " 'YJL042W',\n",
       " 'YJL030W',\n",
       " 'YJL020C',\n",
       " 'YJL013C',\n",
       " 'YJL004C',\n",
       " 'YJL002C_tsq735',\n",
       " 'YJR002W_damp',\n",
       " 'YJR003C',\n",
       " 'YJR005W',\n",
       " 'YJR009C',\n",
       " 'YJR016C_damp',\n",
       " 'YJR019C',\n",
       " 'YJR024C',\n",
       " 'YJR032W',\n",
       " 'YJR036C',\n",
       " 'YJR040W',\n",
       " 'YJR043C',\n",
       " 'YJR045C_tsq328',\n",
       " 'YJR049C',\n",
       " 'YJR051W',\n",
       " 'YJR053W',\n",
       " 'YJR057W_tsq22',\n",
       " 'YJR058C',\n",
       " 'YJR066W',\n",
       " 'YJR073C',\n",
       " 'YJR075W',\n",
       " 'YJR076C_tsq76',\n",
       " 'YJR076C_tsq74',\n",
       " 'YJR078W',\n",
       " 'YJR083C',\n",
       " 'YJR084W',\n",
       " 'YJR095W',\n",
       " 'YJR096W',\n",
       " 'YJR097W',\n",
       " 'YJR099W',\n",
       " 'YJR102C',\n",
       " 'YJR103W',\n",
       " 'YJR113C',\n",
       " 'YJR118C',\n",
       " 'YJR120W',\n",
       " 'YJR130C',\n",
       " 'YJR134C',\n",
       " 'YJR135C',\n",
       " 'YJR139C',\n",
       " 'YJR140C',\n",
       " 'YJR151C',\n",
       " 'YKL218C',\n",
       " 'YKL217W',\n",
       " 'YKL214C',\n",
       " 'YKL213C',\n",
       " 'YKL211C',\n",
       " 'YKL203C_tsq398',\n",
       " 'YKL203C_tsq838',\n",
       " 'YKL203C_damp',\n",
       " 'YKL201C',\n",
       " 'YKL198C',\n",
       " 'YKL195W_damp',\n",
       " 'YKL193C_tsq572',\n",
       " 'YKL188C',\n",
       " 'YKL184W',\n",
       " 'YKL176C',\n",
       " 'YKL174C',\n",
       " 'YKL173W_tsq621',\n",
       " 'YKL171W',\n",
       " 'YKL164C',\n",
       " 'YKL159C',\n",
       " 'YKL157W',\n",
       " 'YKL150W',\n",
       " 'YKL148C',\n",
       " 'YKL146W',\n",
       " 'YKL135C',\n",
       " 'YKL132C',\n",
       " 'YKL116C',\n",
       " 'YKL113C',\n",
       " 'YKL103C',\n",
       " 'YKL101W',\n",
       " 'YKL100C',\n",
       " 'YKL094W',\n",
       " 'YKL093W',\n",
       " 'YKL085W',\n",
       " 'YKL080W',\n",
       " 'YKL078W_damp',\n",
       " 'YKL068W',\n",
       " 'YKL062W',\n",
       " 'YKL061W',\n",
       " 'YKL059C_damp',\n",
       " 'YKL057C',\n",
       " 'YKL056C',\n",
       " 'YKL055C',\n",
       " 'YKL051W',\n",
       " 'YKL049C_damp',\n",
       " 'YKL048C',\n",
       " 'YKL045W_tsq19',\n",
       " 'YKL040C',\n",
       " 'YKL039W',\n",
       " 'YKL033W-A',\n",
       " 'YKL029C',\n",
       " 'YKL008C',\n",
       " 'YKL004W_damp',\n",
       " 'YKL002W',\n",
       " 'YKL001C',\n",
       " 'YKR008W_tsq498',\n",
       " 'YKR010C',\n",
       " 'YKR018C',\n",
       " 'YKR019C',\n",
       " 'YKR020W',\n",
       " 'YKR023W',\n",
       " 'YKR026C',\n",
       " 'YKR036C',\n",
       " ...]"
      ]
     },
     "execution_count": 92,
     "metadata": {},
     "output_type": "execute_result"
    }
   ],
   "source": [
    "list(df3[\"QueryORF\"].unique())"
   ]
  },
  {
   "cell_type": "code",
   "execution_count": 93,
   "metadata": {
    "collapsed": false
   },
   "outputs": [
    {
     "data": {
      "text/plain": [
       "13"
      ]
     },
     "execution_count": 93,
     "metadata": {},
     "output_type": "execute_result"
    }
   ],
   "source": [
    "list(df3[\"QueryORF\"].unique()).index('YAL025C_damp')"
   ]
  },
  {
   "cell_type": "code",
   "execution_count": 15,
   "metadata": {
    "collapsed": false
   },
   "outputs": [
    {
     "data": {
      "text/plain": [
       "3885"
      ]
     },
     "execution_count": 15,
     "metadata": {},
     "output_type": "execute_result"
    }
   ],
   "source": [
    "len(df3[\"ArrayORF\"].unique())"
   ]
  },
  {
   "cell_type": "markdown",
   "metadata": {},
   "source": [
    "## Task 1"
   ]
  },
  {
   "cell_type": "markdown",
   "metadata": {},
   "source": [
    "Implementation Steps:\n",
    "\n",
    "(1) Create Gene Interaction Matrix\n",
    "\n",
    "(2) Compute PCC between each pair of genes (worry about averaging later)\n",
    "\n",
    "(3) Screen those that have PCC > .2\n",
    "\n",
    "(4) Graph interactions potentially with Cytoscape"
   ]
  },
  {
   "cell_type": "markdown",
   "metadata": {},
   "source": [
    "To generate the network shown in Fig. 1, genetic interaction profile similarities were measured for all query and array gene pairs by computing Pearson correlation coefficients (PCC) from the complete genetic interaction matrix. Correlation coefficients of gene pairs screened both as queries and as arrays were averaged. Gene pairs whose profile similarity exceeded a PCC > 0.2 threshold were connected in the network, and an edge-weighted spring-embedded layout, implemented in Cytoscape (S4), was applied to determine node position. Genes sharing similar patterns of genetic interactions located proximal to each other in two-dimensional space, while less-similar genes were positioned further apart."
   ]
  },
  {
   "cell_type": "code",
   "execution_count": 73,
   "metadata": {
    "collapsed": false
   },
   "outputs": [
    {
     "data": {
      "text/html": [
       "<div>\n",
       "<table border=\"1\" class=\"dataframe\">\n",
       "  <thead>\n",
       "    <tr style=\"text-align: right;\">\n",
       "      <th></th>\n",
       "      <th>QueryORF</th>\n",
       "      <th>ArrayORF</th>\n",
       "      <th>Score</th>\n",
       "      <th>Std-Dev</th>\n",
       "      <th>P-Val</th>\n",
       "    </tr>\n",
       "  </thead>\n",
       "  <tbody>\n",
       "    <tr>\n",
       "      <th>68</th>\n",
       "      <td>YAL063C</td>\n",
       "      <td>YBL106C</td>\n",
       "      <td>-0.0107</td>\n",
       "      <td>0.0148</td>\n",
       "      <td>0.33360</td>\n",
       "    </tr>\n",
       "    <tr>\n",
       "      <th>73</th>\n",
       "      <td>YAL063C</td>\n",
       "      <td>YBL100C</td>\n",
       "      <td>-0.0169</td>\n",
       "      <td>0.0134</td>\n",
       "      <td>0.20687</td>\n",
       "    </tr>\n",
       "    <tr>\n",
       "      <th>74</th>\n",
       "      <td>YAL063C</td>\n",
       "      <td>YBL098W</td>\n",
       "      <td>-0.0306</td>\n",
       "      <td>0.0472</td>\n",
       "      <td>0.29083</td>\n",
       "    </tr>\n",
       "    <tr>\n",
       "      <th>75</th>\n",
       "      <td>YAL063C</td>\n",
       "      <td>YBL096C</td>\n",
       "      <td>-0.0396</td>\n",
       "      <td>0.0786</td>\n",
       "      <td>0.30134</td>\n",
       "    </tr>\n",
       "    <tr>\n",
       "      <th>76</th>\n",
       "      <td>YAL063C</td>\n",
       "      <td>YBL095W</td>\n",
       "      <td>-0.0319</td>\n",
       "      <td>0.0191</td>\n",
       "      <td>0.12602</td>\n",
       "    </tr>\n",
       "  </tbody>\n",
       "</table>\n",
       "</div>"
      ],
      "text/plain": [
       "   QueryORF ArrayORF   Score  Std-Dev    P-Val\n",
       "68  YAL063C  YBL106C -0.0107   0.0148  0.33360\n",
       "73  YAL063C  YBL100C -0.0169   0.0134  0.20687\n",
       "74  YAL063C  YBL098W -0.0306   0.0472  0.29083\n",
       "75  YAL063C  YBL096C -0.0396   0.0786  0.30134\n",
       "76  YAL063C  YBL095W -0.0319   0.0191  0.12602"
      ]
     },
     "execution_count": 73,
     "metadata": {},
     "output_type": "execute_result"
    }
   ],
   "source": [
    "df3.head()"
   ]
  },
  {
   "cell_type": "code",
   "execution_count": 83,
   "metadata": {
    "collapsed": false
   },
   "outputs": [
    {
     "data": {
      "text/html": [
       "<div>\n",
       "<table border=\"1\" class=\"dataframe\">\n",
       "  <thead>\n",
       "    <tr style=\"text-align: right;\">\n",
       "      <th></th>\n",
       "      <th>QueryORF</th>\n",
       "      <th>ArrayORF</th>\n",
       "      <th>Score</th>\n",
       "    </tr>\n",
       "  </thead>\n",
       "  <tbody>\n",
       "    <tr>\n",
       "      <th>68</th>\n",
       "      <td>YAL063C</td>\n",
       "      <td>YBL106C</td>\n",
       "      <td>-0.0107</td>\n",
       "    </tr>\n",
       "    <tr>\n",
       "      <th>73</th>\n",
       "      <td>YAL063C</td>\n",
       "      <td>YBL100C</td>\n",
       "      <td>-0.0169</td>\n",
       "    </tr>\n",
       "    <tr>\n",
       "      <th>74</th>\n",
       "      <td>YAL063C</td>\n",
       "      <td>YBL098W</td>\n",
       "      <td>-0.0306</td>\n",
       "    </tr>\n",
       "    <tr>\n",
       "      <th>75</th>\n",
       "      <td>YAL063C</td>\n",
       "      <td>YBL096C</td>\n",
       "      <td>-0.0396</td>\n",
       "    </tr>\n",
       "    <tr>\n",
       "      <th>76</th>\n",
       "      <td>YAL063C</td>\n",
       "      <td>YBL095W</td>\n",
       "      <td>-0.0319</td>\n",
       "    </tr>\n",
       "  </tbody>\n",
       "</table>\n",
       "</div>"
      ],
      "text/plain": [
       "   QueryORF ArrayORF   Score\n",
       "68  YAL063C  YBL106C -0.0107\n",
       "73  YAL063C  YBL100C -0.0169\n",
       "74  YAL063C  YBL098W -0.0306\n",
       "75  YAL063C  YBL096C -0.0396\n",
       "76  YAL063C  YBL095W -0.0319"
      ]
     },
     "execution_count": 83,
     "metadata": {},
     "output_type": "execute_result"
    }
   ],
   "source": [
    "df5 = df3.ix[:, 0:3]\n",
    "df5.head()"
   ]
  },
  {
   "cell_type": "code",
   "execution_count": 84,
   "metadata": {
    "collapsed": false
   },
   "outputs": [
    {
     "data": {
      "text/html": [
       "<div>\n",
       "<table border=\"1\" class=\"dataframe\">\n",
       "  <thead>\n",
       "    <tr style=\"text-align: right;\">\n",
       "      <th></th>\n",
       "      <th>QueryORF</th>\n",
       "      <th>ArrayORF</th>\n",
       "      <th>Score</th>\n",
       "    </tr>\n",
       "  </thead>\n",
       "  <tbody>\n",
       "    <tr>\n",
       "      <th>6647157</th>\n",
       "      <td>YPR198W</td>\n",
       "      <td>YPR071W</td>\n",
       "      <td>-0.0203</td>\n",
       "    </tr>\n",
       "    <tr>\n",
       "      <th>6647158</th>\n",
       "      <td>YPR198W</td>\n",
       "      <td>YPR073C</td>\n",
       "      <td>-0.0342</td>\n",
       "    </tr>\n",
       "    <tr>\n",
       "      <th>6647159</th>\n",
       "      <td>YPR198W</td>\n",
       "      <td>YPR074C</td>\n",
       "      <td>-0.0202</td>\n",
       "    </tr>\n",
       "    <tr>\n",
       "      <th>6647160</th>\n",
       "      <td>YPR198W</td>\n",
       "      <td>YPR075C</td>\n",
       "      <td>0.0298</td>\n",
       "    </tr>\n",
       "    <tr>\n",
       "      <th>6647161</th>\n",
       "      <td>YPR198W</td>\n",
       "      <td>YPR076W</td>\n",
       "      <td>-0.0042</td>\n",
       "    </tr>\n",
       "  </tbody>\n",
       "</table>\n",
       "</div>"
      ],
      "text/plain": [
       "        QueryORF ArrayORF   Score\n",
       "6647157  YPR198W  YPR071W -0.0203\n",
       "6647158  YPR198W  YPR073C -0.0342\n",
       "6647159  YPR198W  YPR074C -0.0202\n",
       "6647160  YPR198W  YPR075C  0.0298\n",
       "6647161  YPR198W  YPR076W -0.0042"
      ]
     },
     "execution_count": 84,
     "metadata": {},
     "output_type": "execute_result"
    }
   ],
   "source": [
    "df5.tail()"
   ]
  },
  {
   "cell_type": "code",
   "execution_count": 94,
   "metadata": {
    "collapsed": true
   },
   "outputs": [],
   "source": [
    "queryLabels = list(df5[\"QueryORF\"].unique())\n",
    "arrayLabels = list(df5[\"ArrayORF\"].unique())"
   ]
  },
  {
   "cell_type": "code",
   "execution_count": 103,
   "metadata": {
    "collapsed": false
   },
   "outputs": [],
   "source": [
    "tmp = arrayLabels + queryLabels"
   ]
  },
  {
   "cell_type": "code",
   "execution_count": 104,
   "metadata": {
    "collapsed": false
   },
   "outputs": [
    {
     "data": {
      "text/plain": [
       "5596"
      ]
     },
     "execution_count": 104,
     "metadata": {},
     "output_type": "execute_result"
    }
   ],
   "source": [
    "len(tmp)"
   ]
  },
  {
   "cell_type": "code",
   "execution_count": 106,
   "metadata": {
    "collapsed": false
   },
   "outputs": [
    {
     "data": {
      "text/plain": [
       "4457"
      ]
     },
     "execution_count": 106,
     "metadata": {},
     "output_type": "execute_result"
    }
   ],
   "source": [
    "len(set(tmp))"
   ]
  },
  {
   "cell_type": "code",
   "execution_count": 96,
   "metadata": {
    "collapsed": true
   },
   "outputs": [],
   "source": [
    "def queryID(x):\n",
    "    return queryLabels.index(x)\n",
    "\n",
    "def arrayID(x):\n",
    "    return arrayLabels.index(x)\n",
    "    \n",
    "\n",
    "df5[\"QueryID\"] = df5[\"QueryORF\"].map(queryID)\n",
    "df5[\"ArrayID\"] = df5[\"ArrayORF\"].map(arrayID)"
   ]
  },
  {
   "cell_type": "code",
   "execution_count": 98,
   "metadata": {
    "collapsed": false
   },
   "outputs": [
    {
     "data": {
      "text/html": [
       "<div>\n",
       "<table border=\"1\" class=\"dataframe\">\n",
       "  <thead>\n",
       "    <tr style=\"text-align: right;\">\n",
       "      <th></th>\n",
       "      <th>QueryORF</th>\n",
       "      <th>ArrayORF</th>\n",
       "      <th>Score</th>\n",
       "      <th>QueryID</th>\n",
       "      <th>ArrayID</th>\n",
       "    </tr>\n",
       "  </thead>\n",
       "  <tbody>\n",
       "    <tr>\n",
       "      <th>68</th>\n",
       "      <td>YAL063C</td>\n",
       "      <td>YBL106C</td>\n",
       "      <td>-0.0107</td>\n",
       "      <td>0</td>\n",
       "      <td>0</td>\n",
       "    </tr>\n",
       "    <tr>\n",
       "      <th>73</th>\n",
       "      <td>YAL063C</td>\n",
       "      <td>YBL100C</td>\n",
       "      <td>-0.0169</td>\n",
       "      <td>0</td>\n",
       "      <td>1</td>\n",
       "    </tr>\n",
       "    <tr>\n",
       "      <th>74</th>\n",
       "      <td>YAL063C</td>\n",
       "      <td>YBL098W</td>\n",
       "      <td>-0.0306</td>\n",
       "      <td>0</td>\n",
       "      <td>2</td>\n",
       "    </tr>\n",
       "    <tr>\n",
       "      <th>75</th>\n",
       "      <td>YAL063C</td>\n",
       "      <td>YBL096C</td>\n",
       "      <td>-0.0396</td>\n",
       "      <td>0</td>\n",
       "      <td>3</td>\n",
       "    </tr>\n",
       "    <tr>\n",
       "      <th>76</th>\n",
       "      <td>YAL063C</td>\n",
       "      <td>YBL095W</td>\n",
       "      <td>-0.0319</td>\n",
       "      <td>0</td>\n",
       "      <td>4</td>\n",
       "    </tr>\n",
       "    <tr>\n",
       "      <th>78</th>\n",
       "      <td>YAL063C</td>\n",
       "      <td>YBL091C</td>\n",
       "      <td>-0.0089</td>\n",
       "      <td>0</td>\n",
       "      <td>5</td>\n",
       "    </tr>\n",
       "    <tr>\n",
       "      <th>79</th>\n",
       "      <td>YAL063C</td>\n",
       "      <td>YBL089W</td>\n",
       "      <td>-0.0170</td>\n",
       "      <td>0</td>\n",
       "      <td>6</td>\n",
       "    </tr>\n",
       "    <tr>\n",
       "      <th>84</th>\n",
       "      <td>YAL063C</td>\n",
       "      <td>YBL083C</td>\n",
       "      <td>-0.0209</td>\n",
       "      <td>0</td>\n",
       "      <td>7</td>\n",
       "    </tr>\n",
       "    <tr>\n",
       "      <th>85</th>\n",
       "      <td>YAL063C</td>\n",
       "      <td>YBL082C</td>\n",
       "      <td>-0.0380</td>\n",
       "      <td>0</td>\n",
       "      <td>8</td>\n",
       "    </tr>\n",
       "    <tr>\n",
       "      <th>89</th>\n",
       "      <td>YAL063C</td>\n",
       "      <td>YBL072C</td>\n",
       "      <td>-0.0786</td>\n",
       "      <td>0</td>\n",
       "      <td>9</td>\n",
       "    </tr>\n",
       "    <tr>\n",
       "      <th>92</th>\n",
       "      <td>YAL063C</td>\n",
       "      <td>YBL069W</td>\n",
       "      <td>-0.0113</td>\n",
       "      <td>0</td>\n",
       "      <td>10</td>\n",
       "    </tr>\n",
       "    <tr>\n",
       "      <th>94</th>\n",
       "      <td>YAL063C</td>\n",
       "      <td>YBL067C</td>\n",
       "      <td>-0.0068</td>\n",
       "      <td>0</td>\n",
       "      <td>11</td>\n",
       "    </tr>\n",
       "    <tr>\n",
       "      <th>105</th>\n",
       "      <td>YAL063C</td>\n",
       "      <td>YBL055C</td>\n",
       "      <td>-0.0355</td>\n",
       "      <td>0</td>\n",
       "      <td>12</td>\n",
       "    </tr>\n",
       "    <tr>\n",
       "      <th>106</th>\n",
       "      <td>YAL063C</td>\n",
       "      <td>YBL054W</td>\n",
       "      <td>-0.0183</td>\n",
       "      <td>0</td>\n",
       "      <td>13</td>\n",
       "    </tr>\n",
       "    <tr>\n",
       "      <th>109</th>\n",
       "      <td>YAL063C</td>\n",
       "      <td>YBL051C</td>\n",
       "      <td>-0.0343</td>\n",
       "      <td>0</td>\n",
       "      <td>14</td>\n",
       "    </tr>\n",
       "    <tr>\n",
       "      <th>110</th>\n",
       "      <td>YAL063C</td>\n",
       "      <td>YBL049W</td>\n",
       "      <td>-0.0124</td>\n",
       "      <td>0</td>\n",
       "      <td>15</td>\n",
       "    </tr>\n",
       "    <tr>\n",
       "      <th>113</th>\n",
       "      <td>YAL063C</td>\n",
       "      <td>YBL046W</td>\n",
       "      <td>-0.0284</td>\n",
       "      <td>0</td>\n",
       "      <td>16</td>\n",
       "    </tr>\n",
       "    <tr>\n",
       "      <th>114</th>\n",
       "      <td>YAL063C</td>\n",
       "      <td>YBL043W</td>\n",
       "      <td>-0.0313</td>\n",
       "      <td>0</td>\n",
       "      <td>17</td>\n",
       "    </tr>\n",
       "    <tr>\n",
       "      <th>115</th>\n",
       "      <td>YAL063C</td>\n",
       "      <td>YBL042C</td>\n",
       "      <td>-0.0073</td>\n",
       "      <td>0</td>\n",
       "      <td>18</td>\n",
       "    </tr>\n",
       "    <tr>\n",
       "      <th>117</th>\n",
       "      <td>YAL063C</td>\n",
       "      <td>YBL037W</td>\n",
       "      <td>-0.0372</td>\n",
       "      <td>0</td>\n",
       "      <td>19</td>\n",
       "    </tr>\n",
       "    <tr>\n",
       "      <th>118</th>\n",
       "      <td>YAL063C</td>\n",
       "      <td>YBL036C</td>\n",
       "      <td>-0.0503</td>\n",
       "      <td>0</td>\n",
       "      <td>20</td>\n",
       "    </tr>\n",
       "    <tr>\n",
       "      <th>119</th>\n",
       "      <td>YAL063C</td>\n",
       "      <td>YBL032W</td>\n",
       "      <td>-0.0295</td>\n",
       "      <td>0</td>\n",
       "      <td>21</td>\n",
       "    </tr>\n",
       "    <tr>\n",
       "      <th>120</th>\n",
       "      <td>YAL063C</td>\n",
       "      <td>YBL031W</td>\n",
       "      <td>-0.0037</td>\n",
       "      <td>0</td>\n",
       "      <td>22</td>\n",
       "    </tr>\n",
       "    <tr>\n",
       "      <th>121</th>\n",
       "      <td>YAL063C</td>\n",
       "      <td>YBL029W</td>\n",
       "      <td>-0.0556</td>\n",
       "      <td>0</td>\n",
       "      <td>23</td>\n",
       "    </tr>\n",
       "    <tr>\n",
       "      <th>122</th>\n",
       "      <td>YAL063C</td>\n",
       "      <td>YBL028C</td>\n",
       "      <td>-0.0092</td>\n",
       "      <td>0</td>\n",
       "      <td>24</td>\n",
       "    </tr>\n",
       "    <tr>\n",
       "      <th>125</th>\n",
       "      <td>YAL063C</td>\n",
       "      <td>YBL021C</td>\n",
       "      <td>-0.0826</td>\n",
       "      <td>0</td>\n",
       "      <td>25</td>\n",
       "    </tr>\n",
       "    <tr>\n",
       "      <th>126</th>\n",
       "      <td>YAL063C</td>\n",
       "      <td>YBL019W</td>\n",
       "      <td>-0.0185</td>\n",
       "      <td>0</td>\n",
       "      <td>26</td>\n",
       "    </tr>\n",
       "    <tr>\n",
       "      <th>127</th>\n",
       "      <td>YAL063C</td>\n",
       "      <td>YBL017C</td>\n",
       "      <td>-0.1099</td>\n",
       "      <td>0</td>\n",
       "      <td>27</td>\n",
       "    </tr>\n",
       "    <tr>\n",
       "      <th>128</th>\n",
       "      <td>YAL063C</td>\n",
       "      <td>YBL015W</td>\n",
       "      <td>0.0524</td>\n",
       "      <td>0</td>\n",
       "      <td>28</td>\n",
       "    </tr>\n",
       "    <tr>\n",
       "      <th>129</th>\n",
       "      <td>YAL063C</td>\n",
       "      <td>YBL013W</td>\n",
       "      <td>0.0285</td>\n",
       "      <td>0</td>\n",
       "      <td>29</td>\n",
       "    </tr>\n",
       "    <tr>\n",
       "      <th>130</th>\n",
       "      <td>YAL063C</td>\n",
       "      <td>YBL011W</td>\n",
       "      <td>-0.0395</td>\n",
       "      <td>0</td>\n",
       "      <td>30</td>\n",
       "    </tr>\n",
       "    <tr>\n",
       "      <th>131</th>\n",
       "      <td>YAL063C</td>\n",
       "      <td>YBL010C</td>\n",
       "      <td>0.0152</td>\n",
       "      <td>0</td>\n",
       "      <td>31</td>\n",
       "    </tr>\n",
       "    <tr>\n",
       "      <th>132</th>\n",
       "      <td>YAL063C</td>\n",
       "      <td>YBL009W</td>\n",
       "      <td>-0.0484</td>\n",
       "      <td>0</td>\n",
       "      <td>32</td>\n",
       "    </tr>\n",
       "    <tr>\n",
       "      <th>133</th>\n",
       "      <td>YAL063C</td>\n",
       "      <td>YBL008W</td>\n",
       "      <td>0.0494</td>\n",
       "      <td>0</td>\n",
       "      <td>33</td>\n",
       "    </tr>\n",
       "    <tr>\n",
       "      <th>134</th>\n",
       "      <td>YAL063C</td>\n",
       "      <td>YBL007C</td>\n",
       "      <td>0.0287</td>\n",
       "      <td>0</td>\n",
       "      <td>34</td>\n",
       "    </tr>\n",
       "    <tr>\n",
       "      <th>135</th>\n",
       "      <td>YAL063C</td>\n",
       "      <td>YBL005W</td>\n",
       "      <td>-0.0352</td>\n",
       "      <td>0</td>\n",
       "      <td>35</td>\n",
       "    </tr>\n",
       "    <tr>\n",
       "      <th>136</th>\n",
       "      <td>YAL063C</td>\n",
       "      <td>YBL003C</td>\n",
       "      <td>-0.0227</td>\n",
       "      <td>0</td>\n",
       "      <td>36</td>\n",
       "    </tr>\n",
       "    <tr>\n",
       "      <th>137</th>\n",
       "      <td>YAL063C</td>\n",
       "      <td>YBL001C</td>\n",
       "      <td>0.0103</td>\n",
       "      <td>0</td>\n",
       "      <td>37</td>\n",
       "    </tr>\n",
       "    <tr>\n",
       "      <th>140</th>\n",
       "      <td>YAL063C</td>\n",
       "      <td>YBR006W</td>\n",
       "      <td>-0.0054</td>\n",
       "      <td>0</td>\n",
       "      <td>38</td>\n",
       "    </tr>\n",
       "    <tr>\n",
       "      <th>141</th>\n",
       "      <td>YAL063C</td>\n",
       "      <td>YBR007C</td>\n",
       "      <td>-0.0020</td>\n",
       "      <td>0</td>\n",
       "      <td>39</td>\n",
       "    </tr>\n",
       "    <tr>\n",
       "      <th>142</th>\n",
       "      <td>YAL063C</td>\n",
       "      <td>YBR008C</td>\n",
       "      <td>0.0244</td>\n",
       "      <td>0</td>\n",
       "      <td>40</td>\n",
       "    </tr>\n",
       "    <tr>\n",
       "      <th>143</th>\n",
       "      <td>YAL063C</td>\n",
       "      <td>YBR009C</td>\n",
       "      <td>0.0069</td>\n",
       "      <td>0</td>\n",
       "      <td>41</td>\n",
       "    </tr>\n",
       "    <tr>\n",
       "      <th>144</th>\n",
       "      <td>YAL063C</td>\n",
       "      <td>YBR010W</td>\n",
       "      <td>-0.0116</td>\n",
       "      <td>0</td>\n",
       "      <td>42</td>\n",
       "    </tr>\n",
       "    <tr>\n",
       "      <th>145</th>\n",
       "      <td>YAL063C</td>\n",
       "      <td>YBR012C</td>\n",
       "      <td>0.0240</td>\n",
       "      <td>0</td>\n",
       "      <td>43</td>\n",
       "    </tr>\n",
       "    <tr>\n",
       "      <th>146</th>\n",
       "      <td>YAL063C</td>\n",
       "      <td>YBR013C</td>\n",
       "      <td>0.0383</td>\n",
       "      <td>0</td>\n",
       "      <td>44</td>\n",
       "    </tr>\n",
       "    <tr>\n",
       "      <th>147</th>\n",
       "      <td>YAL063C</td>\n",
       "      <td>YBR014C</td>\n",
       "      <td>0.0276</td>\n",
       "      <td>0</td>\n",
       "      <td>45</td>\n",
       "    </tr>\n",
       "    <tr>\n",
       "      <th>148</th>\n",
       "      <td>YAL063C</td>\n",
       "      <td>YBR015C</td>\n",
       "      <td>0.0469</td>\n",
       "      <td>0</td>\n",
       "      <td>46</td>\n",
       "    </tr>\n",
       "    <tr>\n",
       "      <th>149</th>\n",
       "      <td>YAL063C</td>\n",
       "      <td>YBR016W</td>\n",
       "      <td>0.0125</td>\n",
       "      <td>0</td>\n",
       "      <td>47</td>\n",
       "    </tr>\n",
       "    <tr>\n",
       "      <th>150</th>\n",
       "      <td>YAL063C</td>\n",
       "      <td>YBR018C</td>\n",
       "      <td>-0.0175</td>\n",
       "      <td>0</td>\n",
       "      <td>48</td>\n",
       "    </tr>\n",
       "    <tr>\n",
       "      <th>151</th>\n",
       "      <td>YAL063C</td>\n",
       "      <td>YBR019C</td>\n",
       "      <td>-0.0288</td>\n",
       "      <td>0</td>\n",
       "      <td>49</td>\n",
       "    </tr>\n",
       "  </tbody>\n",
       "</table>\n",
       "</div>"
      ],
      "text/plain": [
       "    QueryORF ArrayORF   Score  QueryID  ArrayID\n",
       "68   YAL063C  YBL106C -0.0107        0        0\n",
       "73   YAL063C  YBL100C -0.0169        0        1\n",
       "74   YAL063C  YBL098W -0.0306        0        2\n",
       "75   YAL063C  YBL096C -0.0396        0        3\n",
       "76   YAL063C  YBL095W -0.0319        0        4\n",
       "78   YAL063C  YBL091C -0.0089        0        5\n",
       "79   YAL063C  YBL089W -0.0170        0        6\n",
       "84   YAL063C  YBL083C -0.0209        0        7\n",
       "85   YAL063C  YBL082C -0.0380        0        8\n",
       "89   YAL063C  YBL072C -0.0786        0        9\n",
       "92   YAL063C  YBL069W -0.0113        0       10\n",
       "94   YAL063C  YBL067C -0.0068        0       11\n",
       "105  YAL063C  YBL055C -0.0355        0       12\n",
       "106  YAL063C  YBL054W -0.0183        0       13\n",
       "109  YAL063C  YBL051C -0.0343        0       14\n",
       "110  YAL063C  YBL049W -0.0124        0       15\n",
       "113  YAL063C  YBL046W -0.0284        0       16\n",
       "114  YAL063C  YBL043W -0.0313        0       17\n",
       "115  YAL063C  YBL042C -0.0073        0       18\n",
       "117  YAL063C  YBL037W -0.0372        0       19\n",
       "118  YAL063C  YBL036C -0.0503        0       20\n",
       "119  YAL063C  YBL032W -0.0295        0       21\n",
       "120  YAL063C  YBL031W -0.0037        0       22\n",
       "121  YAL063C  YBL029W -0.0556        0       23\n",
       "122  YAL063C  YBL028C -0.0092        0       24\n",
       "125  YAL063C  YBL021C -0.0826        0       25\n",
       "126  YAL063C  YBL019W -0.0185        0       26\n",
       "127  YAL063C  YBL017C -0.1099        0       27\n",
       "128  YAL063C  YBL015W  0.0524        0       28\n",
       "129  YAL063C  YBL013W  0.0285        0       29\n",
       "130  YAL063C  YBL011W -0.0395        0       30\n",
       "131  YAL063C  YBL010C  0.0152        0       31\n",
       "132  YAL063C  YBL009W -0.0484        0       32\n",
       "133  YAL063C  YBL008W  0.0494        0       33\n",
       "134  YAL063C  YBL007C  0.0287        0       34\n",
       "135  YAL063C  YBL005W -0.0352        0       35\n",
       "136  YAL063C  YBL003C -0.0227        0       36\n",
       "137  YAL063C  YBL001C  0.0103        0       37\n",
       "140  YAL063C  YBR006W -0.0054        0       38\n",
       "141  YAL063C  YBR007C -0.0020        0       39\n",
       "142  YAL063C  YBR008C  0.0244        0       40\n",
       "143  YAL063C  YBR009C  0.0069        0       41\n",
       "144  YAL063C  YBR010W -0.0116        0       42\n",
       "145  YAL063C  YBR012C  0.0240        0       43\n",
       "146  YAL063C  YBR013C  0.0383        0       44\n",
       "147  YAL063C  YBR014C  0.0276        0       45\n",
       "148  YAL063C  YBR015C  0.0469        0       46\n",
       "149  YAL063C  YBR016W  0.0125        0       47\n",
       "150  YAL063C  YBR018C -0.0175        0       48\n",
       "151  YAL063C  YBR019C -0.0288        0       49"
      ]
     },
     "execution_count": 98,
     "metadata": {},
     "output_type": "execute_result"
    }
   ],
   "source": [
    "df5.head(50)"
   ]
  },
  {
   "cell_type": "code",
   "execution_count": 142,
   "metadata": {
    "collapsed": false
   },
   "outputs": [
    {
     "data": {
      "text/plain": [
       "1711"
      ]
     },
     "execution_count": 142,
     "metadata": {},
     "output_type": "execute_result"
    }
   ],
   "source": [
    "len(df5[\"QueryID\"].unique())"
   ]
  },
  {
   "cell_type": "code",
   "execution_count": 126,
   "metadata": {
    "collapsed": true
   },
   "outputs": [],
   "source": [
    "edge_list = df5[[\"QueryID\", \"ArrayID\", \"Score\"]]"
   ]
  },
  {
   "cell_type": "code",
   "execution_count": 132,
   "metadata": {
    "collapsed": false
   },
   "outputs": [
    {
     "data": {
      "text/html": [
       "<div>\n",
       "<table border=\"1\" class=\"dataframe\">\n",
       "  <thead>\n",
       "    <tr style=\"text-align: right;\">\n",
       "      <th></th>\n",
       "      <th>QueryID</th>\n",
       "      <th>ArrayID</th>\n",
       "      <th>Score</th>\n",
       "    </tr>\n",
       "  </thead>\n",
       "  <tbody>\n",
       "    <tr>\n",
       "      <th>68</th>\n",
       "      <td>0</td>\n",
       "      <td>0</td>\n",
       "      <td>-0.0107</td>\n",
       "    </tr>\n",
       "    <tr>\n",
       "      <th>73</th>\n",
       "      <td>0</td>\n",
       "      <td>1</td>\n",
       "      <td>-0.0169</td>\n",
       "    </tr>\n",
       "    <tr>\n",
       "      <th>74</th>\n",
       "      <td>0</td>\n",
       "      <td>2</td>\n",
       "      <td>-0.0306</td>\n",
       "    </tr>\n",
       "    <tr>\n",
       "      <th>75</th>\n",
       "      <td>0</td>\n",
       "      <td>3</td>\n",
       "      <td>-0.0396</td>\n",
       "    </tr>\n",
       "    <tr>\n",
       "      <th>76</th>\n",
       "      <td>0</td>\n",
       "      <td>4</td>\n",
       "      <td>-0.0319</td>\n",
       "    </tr>\n",
       "  </tbody>\n",
       "</table>\n",
       "</div>"
      ],
      "text/plain": [
       "    QueryID  ArrayID   Score\n",
       "68        0        0 -0.0107\n",
       "73        0        1 -0.0169\n",
       "74        0        2 -0.0306\n",
       "75        0        3 -0.0396\n",
       "76        0        4 -0.0319"
      ]
     },
     "execution_count": 132,
     "metadata": {},
     "output_type": "execute_result"
    }
   ],
   "source": [
    "edge_list.head()"
   ]
  },
  {
   "cell_type": "code",
   "execution_count": 151,
   "metadata": {
    "collapsed": false
   },
   "outputs": [],
   "source": [
    "# import numpy as np\n",
    "def edgesToAdjMatrix(edge_list):\n",
    "    import scipy.sparse as sps\n",
    "    A = np.array(edge_list.values.tolist())\n",
    "    i, j, weight = A[:,0], A[:,1], A[:,2]\n",
    "    # find the dimension of the weight matrix\n",
    "    dimI =  len(set(i))\n",
    "    dimJ =  len(set(j))\n",
    "\n",
    "    B = sps.lil_matrix((dimI, dimJ))\n",
    "    for i,j,w in zip(i,j,weight):\n",
    "        B[i,j] = w\n",
    "    return B"
   ]
  },
  {
   "cell_type": "code",
   "execution_count": 148,
   "metadata": {
    "collapsed": true
   },
   "outputs": [],
   "source": [
    "adj = edgesToAdjMatrix(edge_list)"
   ]
  },
  {
   "cell_type": "code",
   "execution_count": 176,
   "metadata": {
    "collapsed": false
   },
   "outputs": [
    {
     "data": {
      "text/plain": [
       "1711"
      ]
     },
     "execution_count": 176,
     "metadata": {},
     "output_type": "execute_result"
    }
   ],
   "source": [
    "adj2.get_shape()[0]"
   ]
  },
  {
   "cell_type": "code",
   "execution_count": 152,
   "metadata": {
    "collapsed": true
   },
   "outputs": [],
   "source": [
    "adj2 = edgesToAdjMatrix(edge_list)"
   ]
  },
  {
   "cell_type": "code",
   "execution_count": 156,
   "metadata": {
    "collapsed": false
   },
   "outputs": [],
   "source": [
    "import pickle\n",
    "with open('qcb.pickle', 'wb') as f:  # Python 3: open(..., 'wb')\n",
    "    pickle.dump([df5, edge_list, adj, adj2], f)"
   ]
  },
  {
   "cell_type": "code",
   "execution_count": 175,
   "metadata": {
    "collapsed": false
   },
   "outputs": [
    {
     "data": {
      "text/plain": [
       "0.026416855992291429"
      ]
     },
     "execution_count": 175,
     "metadata": {},
     "output_type": "execute_result"
    }
   ],
   "source": [
    "from scipy.stats.stats import pearsonr\n",
    "row1 = adj2.getrow(1).toarray()[0]\n",
    "row2 = adj2.getrow(2).toarray()[0]\n",
    "pearsonr(row1, row2)[0]"
   ]
  },
  {
   "cell_type": "code",
   "execution_count": 180,
   "metadata": {
    "collapsed": true
   },
   "outputs": [],
   "source": [
    "#Calculate pearson row similarity matrix (sparse) from the adjacency sparse matrix\n",
    "# from scipy.stats.stats import pearsonr\n",
    "# import scipy.sparse as sps\n",
    "def adjToPearsonRows(adj):\n",
    "    nrows = adj.get_shape()[0]\n",
    "    C = sps.lil_matrix((nrows,nrows))\n",
    "    for i in range(0,nrows):\n",
    "        for j in range(i+1,nrows):\n",
    "            row1 = adj.getrow(i).toarray()[0]\n",
    "            row2 = adj.getrow(j).toarray()[0]\n",
    "            sim_score = pearsonr(row1,row2)[0]\n",
    "            if (sim_score > .2):\n",
    "                C[i,j] = sim_score\n",
    "                C[j,i] = sim_score\n",
    "            \n",
    "    return C"
   ]
  },
  {
   "cell_type": "code",
   "execution_count": 181,
   "metadata": {
    "collapsed": false
   },
   "outputs": [],
   "source": [
    "simQ = adjToPearsonRows(adj2)"
   ]
  },
  {
   "cell_type": "code",
   "execution_count": 182,
   "metadata": {
    "collapsed": false
   },
   "outputs": [
    {
     "data": {
      "text/plain": [
       "(1711, 1711)"
      ]
     },
     "execution_count": 182,
     "metadata": {},
     "output_type": "execute_result"
    }
   ],
   "source": [
    "simQ.get_shape()"
   ]
  },
  {
   "cell_type": "code",
   "execution_count": 183,
   "metadata": {
    "collapsed": true
   },
   "outputs": [],
   "source": [
    "with open('simQ.pickle', 'wb') as f:  # Python 3: open(..., 'wb')\n",
    "    pickle.dump([simQ], f)"
   ]
  },
  {
   "cell_type": "markdown",
   "metadata": {},
   "source": [
    "### Task 2"
   ]
  },
  {
   "cell_type": "markdown",
   "metadata": {},
   "source": [
    "We measured the number of positive and negative interactions for all 3885 non-essential array deletion mutants at the intermediate cutoff (|\"| > 0.08, p < 0.05). Genetic interaction hubs were selected as the top 10% highest connected genes. Genes with a bias towards positive interactions were selected by finding genes with at least 30 total interactions and positive to negative ratio greater than 1, which is twice the background ratio. Genes with a bias towards negative interactions were selected by finding genes with at least 30 total interactions and positive to negative ratio lower than 0.25, which is one-half of the background ratio. Both of these sets consisted of approximately 130 genes.\n"
   ]
  },
  {
   "cell_type": "markdown",
   "metadata": {},
   "source": [
    "Implementation Steps:\n",
    "\n",
    "(1) For each of the 3885 \"non-essential array deletion mutants at the intermediate cutoff\", get the number of positive and negative interactions. \n",
    "\n",
    "(2) Mark interaction hubs as the ones that are in the 10th percentile in terms of these interactions?\n",
    "\n",
    "(3) Generate positive bias genes according to afformentioend criteria\n",
    "\n",
    "(4) Generate negative bias genes according to aforementioned criteria. "
   ]
  },
  {
   "cell_type": "code",
   "execution_count": 16,
   "metadata": {
    "collapsed": false
   },
   "outputs": [],
   "source": [
    "df4 = df3[(df3[\"P-Val\"] < .05) & (abs(df3[\"Score\"]) > .08) ]"
   ]
  },
  {
   "cell_type": "code",
   "execution_count": 17,
   "metadata": {
    "collapsed": false
   },
   "outputs": [
    {
     "data": {
      "text/plain": [
       "187324"
      ]
     },
     "execution_count": 17,
     "metadata": {},
     "output_type": "execute_result"
    }
   ],
   "source": [
    "len(df4)"
   ]
  },
  {
   "cell_type": "code",
   "execution_count": 18,
   "metadata": {
    "collapsed": false
   },
   "outputs": [
    {
     "name": "stderr",
     "output_type": "stream",
     "text": [
      "/Users/advaitchauhan/anaconda3/lib/python3.5/site-packages/ipykernel/__main__.py:8: SettingWithCopyWarning: \n",
      "A value is trying to be set on a copy of a slice from a DataFrame.\n",
      "Try using .loc[row_indexer,col_indexer] = value instead\n",
      "\n",
      "See the caveats in the documentation: http://pandas.pydata.org/pandas-docs/stable/indexing.html#indexing-view-versus-copy\n",
      "/Users/advaitchauhan/anaconda3/lib/python3.5/site-packages/ipykernel/__main__.py:9: SettingWithCopyWarning: \n",
      "A value is trying to be set on a copy of a slice from a DataFrame.\n",
      "Try using .loc[row_indexer,col_indexer] = value instead\n",
      "\n",
      "See the caveats in the documentation: http://pandas.pydata.org/pandas-docs/stable/indexing.html#indexing-view-versus-copy\n"
     ]
    }
   ],
   "source": [
    "def pos(x):\n",
    "    return int(x > 0)\n",
    "\n",
    "def neg(x):\n",
    "    return int(x < 0)\n",
    "    \n",
    "\n",
    "df4[\"Pos\"] = df4[\"Score\"].map(pos)\n",
    "df4[\"Neg\"] = df4[\"Score\"].map(neg)"
   ]
  },
  {
   "cell_type": "code",
   "execution_count": 19,
   "metadata": {
    "collapsed": false
   },
   "outputs": [
    {
     "data": {
      "text/html": [
       "<div>\n",
       "<table border=\"1\" class=\"dataframe\">\n",
       "  <thead>\n",
       "    <tr style=\"text-align: right;\">\n",
       "      <th></th>\n",
       "      <th>QueryORF</th>\n",
       "      <th>ArrayORF</th>\n",
       "      <th>Score</th>\n",
       "      <th>Std-Dev</th>\n",
       "      <th>P-Val</th>\n",
       "      <th>Pos</th>\n",
       "      <th>Neg</th>\n",
       "    </tr>\n",
       "  </thead>\n",
       "  <tbody>\n",
       "    <tr>\n",
       "      <th>319</th>\n",
       "      <td>YAL063C</td>\n",
       "      <td>YBR266C</td>\n",
       "      <td>-0.1071</td>\n",
       "      <td>0.0184</td>\n",
       "      <td>1.878000e-05</td>\n",
       "      <td>0</td>\n",
       "      <td>1</td>\n",
       "    </tr>\n",
       "    <tr>\n",
       "      <th>405</th>\n",
       "      <td>YAL063C</td>\n",
       "      <td>YCR009C</td>\n",
       "      <td>-0.0977</td>\n",
       "      <td>0.0462</td>\n",
       "      <td>4.244800e-02</td>\n",
       "      <td>0</td>\n",
       "      <td>1</td>\n",
       "    </tr>\n",
       "    <tr>\n",
       "      <th>422</th>\n",
       "      <td>YAL063C</td>\n",
       "      <td>YCR028C-A</td>\n",
       "      <td>-0.1969</td>\n",
       "      <td>0.0273</td>\n",
       "      <td>1.518800e-08</td>\n",
       "      <td>0</td>\n",
       "      <td>1</td>\n",
       "    </tr>\n",
       "    <tr>\n",
       "      <th>1016</th>\n",
       "      <td>YAL063C</td>\n",
       "      <td>YER095W</td>\n",
       "      <td>-0.1079</td>\n",
       "      <td>0.0383</td>\n",
       "      <td>1.160900e-02</td>\n",
       "      <td>0</td>\n",
       "      <td>1</td>\n",
       "    </tr>\n",
       "    <tr>\n",
       "      <th>1054</th>\n",
       "      <td>YAL063C</td>\n",
       "      <td>YER153C</td>\n",
       "      <td>-0.0894</td>\n",
       "      <td>0.0129</td>\n",
       "      <td>4.712800e-07</td>\n",
       "      <td>0</td>\n",
       "      <td>1</td>\n",
       "    </tr>\n",
       "  </tbody>\n",
       "</table>\n",
       "</div>"
      ],
      "text/plain": [
       "     QueryORF   ArrayORF   Score  Std-Dev         P-Val  Pos  Neg\n",
       "319   YAL063C    YBR266C -0.1071   0.0184  1.878000e-05    0    1\n",
       "405   YAL063C    YCR009C -0.0977   0.0462  4.244800e-02    0    1\n",
       "422   YAL063C  YCR028C-A -0.1969   0.0273  1.518800e-08    0    1\n",
       "1016  YAL063C    YER095W -0.1079   0.0383  1.160900e-02    0    1\n",
       "1054  YAL063C    YER153C -0.0894   0.0129  4.712800e-07    0    1"
      ]
     },
     "execution_count": 19,
     "metadata": {},
     "output_type": "execute_result"
    }
   ],
   "source": [
    "df4.head()"
   ]
  },
  {
   "cell_type": "code",
   "execution_count": 20,
   "metadata": {
    "collapsed": false
   },
   "outputs": [
    {
     "data": {
      "text/plain": [
       "Pos     66533\n",
       "Neg    120791\n",
       "dtype: int64"
      ]
     },
     "execution_count": 20,
     "metadata": {},
     "output_type": "execute_result"
    }
   ],
   "source": [
    "df4[[\"Pos\", \"Neg\"]].sum()"
   ]
  },
  {
   "cell_type": "code",
   "execution_count": 37,
   "metadata": {
    "collapsed": false
   },
   "outputs": [
    {
     "data": {
      "text/plain": [
       "ArrayORF\n",
       "YAL002W      83\n",
       "YAL004W      25\n",
       "YAL005C      25\n",
       "YAL007C       9\n",
       "YAL008W       8\n",
       "YAL010C      75\n",
       "YAL011W      63\n",
       "YAL013W      51\n",
       "YAL014C      20\n",
       "YAL015C       9\n",
       "YAL017W      11\n",
       "YAL018C       6\n",
       "YAL019W      16\n",
       "YAL020C      13\n",
       "YAL022C       4\n",
       "YAL023C      36\n",
       "YAL024C      31\n",
       "YAL027W       5\n",
       "YAL028W       3\n",
       "YAL029C       3\n",
       "YAL030W       2\n",
       "YAL031C       5\n",
       "YAL034C       5\n",
       "YAL036C       5\n",
       "YAL037W       5\n",
       "YAL040C      12\n",
       "YAL042W       1\n",
       "YAL043C-A     4\n",
       "YAL045C       8\n",
       "YAL046C       5\n",
       "             ..\n",
       "YPR152C       4\n",
       "YPR153W      25\n",
       "YPR154W       5\n",
       "YPR155C       5\n",
       "YPR156C       8\n",
       "YPR157W       3\n",
       "YPR158W       1\n",
       "YPR160W      25\n",
       "YPR164W      16\n",
       "YPR167C       3\n",
       "YPR170C       5\n",
       "YPR171W      13\n",
       "YPR172W       2\n",
       "YPR174C      15\n",
       "YPR179C      54\n",
       "YPR184W       9\n",
       "YPR185W      15\n",
       "YPR188C       7\n",
       "YPR189W      25\n",
       "YPR191W      29\n",
       "YPR192W       4\n",
       "YPR193C       9\n",
       "YPR194C      16\n",
       "YPR195C       9\n",
       "YPR196W       4\n",
       "YPR197C      27\n",
       "YPR198W       7\n",
       "YPR199C       2\n",
       "YPR200C       2\n",
       "YPR201W       9\n",
       "Name: Pos, dtype: int64"
      ]
     },
     "execution_count": 37,
     "metadata": {},
     "output_type": "execute_result"
    }
   ],
   "source": [
    "pos = df4.groupby(\"ArrayORF\")[\"Pos\"].sum()\n",
    "pos"
   ]
  },
  {
   "cell_type": "code",
   "execution_count": 38,
   "metadata": {
    "collapsed": false
   },
   "outputs": [
    {
     "data": {
      "text/plain": [
       "ArrayORF\n",
       "YAL002W      102\n",
       "YAL004W       23\n",
       "YAL005C       22\n",
       "YAL007C        9\n",
       "YAL008W        7\n",
       "YAL010C      123\n",
       "YAL011W      119\n",
       "YAL013W      151\n",
       "YAL014C       14\n",
       "YAL015C        4\n",
       "YAL017W       15\n",
       "YAL018C       25\n",
       "YAL019W       51\n",
       "YAL020C       25\n",
       "YAL022C        5\n",
       "YAL023C       42\n",
       "YAL024C      104\n",
       "YAL027W        7\n",
       "YAL028W       17\n",
       "YAL029C        0\n",
       "YAL030W        6\n",
       "YAL031C        9\n",
       "YAL034C       10\n",
       "YAL036C       18\n",
       "YAL037W        5\n",
       "YAL040C       30\n",
       "YAL042W       23\n",
       "YAL043C-A     21\n",
       "YAL045C       17\n",
       "YAL046C        8\n",
       "            ... \n",
       "YPR152C       15\n",
       "YPR153W       43\n",
       "YPR154W        2\n",
       "YPR155C       21\n",
       "YPR156C        3\n",
       "YPR157W        1\n",
       "YPR158W       11\n",
       "YPR160W       47\n",
       "YPR164W       31\n",
       "YPR167C       40\n",
       "YPR170C       14\n",
       "YPR171W       11\n",
       "YPR172W        7\n",
       "YPR174C        6\n",
       "YPR179C      103\n",
       "YPR184W        1\n",
       "YPR185W       76\n",
       "YPR188C       13\n",
       "YPR189W       24\n",
       "YPR191W      149\n",
       "YPR192W        5\n",
       "YPR193C       16\n",
       "YPR194C       10\n",
       "YPR195C       11\n",
       "YPR196W        3\n",
       "YPR197C       37\n",
       "YPR198W        8\n",
       "YPR199C        0\n",
       "YPR200C        2\n",
       "YPR201W       10\n",
       "Name: Neg, dtype: int64"
      ]
     },
     "execution_count": 38,
     "metadata": {},
     "output_type": "execute_result"
    }
   ],
   "source": [
    "neg = df4.groupby(\"ArrayORF\")[\"Neg\"].sum()\n",
    "neg"
   ]
  },
  {
   "cell_type": "code",
   "execution_count": 39,
   "metadata": {
    "collapsed": false
   },
   "outputs": [
    {
     "data": {
      "text/plain": [
       "ArrayORF\n",
       "YAL002W      185\n",
       "YAL004W       48\n",
       "YAL005C       47\n",
       "YAL007C       18\n",
       "YAL008W       15\n",
       "YAL010C      198\n",
       "YAL011W      182\n",
       "YAL013W      202\n",
       "YAL014C       34\n",
       "YAL015C       13\n",
       "YAL017W       26\n",
       "YAL018C       31\n",
       "YAL019W       67\n",
       "YAL020C       38\n",
       "YAL022C        9\n",
       "YAL023C       78\n",
       "YAL024C      135\n",
       "YAL027W       12\n",
       "YAL028W       20\n",
       "YAL029C        3\n",
       "YAL030W        8\n",
       "YAL031C       14\n",
       "YAL034C       15\n",
       "YAL036C       23\n",
       "YAL037W       10\n",
       "YAL040C       42\n",
       "YAL042W       24\n",
       "YAL043C-A     25\n",
       "YAL045C       25\n",
       "YAL046C       13\n",
       "            ... \n",
       "YPR152C       19\n",
       "YPR153W       68\n",
       "YPR154W        7\n",
       "YPR155C       26\n",
       "YPR156C       11\n",
       "YPR157W        4\n",
       "YPR158W       12\n",
       "YPR160W       72\n",
       "YPR164W       47\n",
       "YPR167C       43\n",
       "YPR170C       19\n",
       "YPR171W       24\n",
       "YPR172W        9\n",
       "YPR174C       21\n",
       "YPR179C      157\n",
       "YPR184W       10\n",
       "YPR185W       91\n",
       "YPR188C       20\n",
       "YPR189W       49\n",
       "YPR191W      178\n",
       "YPR192W        9\n",
       "YPR193C       25\n",
       "YPR194C       26\n",
       "YPR195C       20\n",
       "YPR196W        7\n",
       "YPR197C       64\n",
       "YPR198W       15\n",
       "YPR199C        2\n",
       "YPR200C        4\n",
       "YPR201W       19\n",
       "dtype: int64"
      ]
     },
     "execution_count": 39,
     "metadata": {},
     "output_type": "execute_result"
    }
   ],
   "source": [
    "tot = df4.groupby(\"ArrayORF\").size()\n",
    "tot"
   ]
  },
  {
   "cell_type": "code",
   "execution_count": 40,
   "metadata": {
    "collapsed": false
   },
   "outputs": [
    {
     "data": {
      "text/plain": [
       "3885"
      ]
     },
     "execution_count": 40,
     "metadata": {},
     "output_type": "execute_result"
    }
   ],
   "source": [
    "len(tot)"
   ]
  },
  {
   "cell_type": "code",
   "execution_count": 41,
   "metadata": {
    "collapsed": false
   },
   "outputs": [
    {
     "data": {
      "text/plain": [
       "3885"
      ]
     },
     "execution_count": 41,
     "metadata": {},
     "output_type": "execute_result"
    }
   ],
   "source": [
    "len(pos)"
   ]
  },
  {
   "cell_type": "code",
   "execution_count": 42,
   "metadata": {
    "collapsed": false
   },
   "outputs": [
    {
     "data": {
      "text/plain": [
       "3885"
      ]
     },
     "execution_count": 42,
     "metadata": {},
     "output_type": "execute_result"
    }
   ],
   "source": [
    "len(neg)"
   ]
  },
  {
   "cell_type": "code",
   "execution_count": 43,
   "metadata": {
    "collapsed": false
   },
   "outputs": [
    {
     "data": {
      "text/plain": [
       "pandas.core.series.Series"
      ]
     },
     "execution_count": 43,
     "metadata": {},
     "output_type": "execute_result"
    }
   ],
   "source": [
    "type(pos)"
   ]
  },
  {
   "cell_type": "code",
   "execution_count": 45,
   "metadata": {
    "collapsed": false
   },
   "outputs": [],
   "source": [
    "ratDf = pd.DataFrame({\"Pos\": pos, \"Neg\": neg, \"Tot\": tot})"
   ]
  },
  {
   "cell_type": "code",
   "execution_count": 124,
   "metadata": {
    "collapsed": false
   },
   "outputs": [],
   "source": [
    "ratDf[\"ratio\"] = ratDf[\"Pos\"] / (ratDf[\"Neg\"] + 1)"
   ]
  },
  {
   "cell_type": "code",
   "execution_count": 125,
   "metadata": {
    "collapsed": false
   },
   "outputs": [
    {
     "data": {
      "text/plain": [
       "<matplotlib.axes._subplots.AxesSubplot at 0x113ec8c50>"
      ]
     },
     "execution_count": 125,
     "metadata": {},
     "output_type": "execute_result"
    },
    {
     "data": {
      "image/png": "[encoded data removed]",
      "text/plain": [
       "<matplotlib.figure.Figure at 0x1167aae10>"
      ]
     },
     "metadata": {},
     "output_type": "display_data"
    }
   ],
   "source": [
    "%matplotlib inline\n",
    "import matplotlib.pyplot as plt\n",
    "plt.style.use('fivethirtyeight')\n",
    "ratDf[\"ratio\"].plot(kind = 'hist', bins = 100, xlim = (0, 4))"
   ]
  },
  {
   "cell_type": "code",
   "execution_count": 72,
   "metadata": {
    "collapsed": false
   },
   "outputs": [
    {
     "data": {
      "text/plain": [
       "<matplotlib.axes._subplots.AxesSubplot at 0x118134e48>"
      ]
     },
     "execution_count": 72,
     "metadata": {},
     "output_type": "execute_result"
    },
    {
     "data": {
      "image/png": "[encoded data removed]",
      "text/plain": [
       "<matplotlib.figure.Figure at 0x118bfd240>"
      ]
     },
     "metadata": {},
     "output_type": "display_data"
    }
   ],
   "source": [
    "ratDf[\"Tot\"].plot(kind = 'hist')"
   ]
  },
  {
   "cell_type": "code",
   "execution_count": 81,
   "metadata": {
    "collapsed": false
   },
   "outputs": [
    {
     "data": {
      "text/html": [
       "<div>\n",
       "<table border=\"1\" class=\"dataframe\">\n",
       "  <thead>\n",
       "    <tr style=\"text-align: right;\">\n",
       "      <th></th>\n",
       "      <th>Neg</th>\n",
       "      <th>Pos</th>\n",
       "      <th>Tot</th>\n",
       "      <th>ratio</th>\n",
       "    </tr>\n",
       "    <tr>\n",
       "      <th>ArrayORF</th>\n",
       "      <th></th>\n",
       "      <th></th>\n",
       "      <th></th>\n",
       "      <th></th>\n",
       "    </tr>\n",
       "  </thead>\n",
       "  <tbody>\n",
       "    <tr>\n",
       "      <th>YAL002W</th>\n",
       "      <td>102</td>\n",
       "      <td>83</td>\n",
       "      <td>185</td>\n",
       "      <td>0.805825</td>\n",
       "    </tr>\n",
       "    <tr>\n",
       "      <th>YAL004W</th>\n",
       "      <td>23</td>\n",
       "      <td>25</td>\n",
       "      <td>48</td>\n",
       "      <td>1.041667</td>\n",
       "    </tr>\n",
       "    <tr>\n",
       "      <th>YAL005C</th>\n",
       "      <td>22</td>\n",
       "      <td>25</td>\n",
       "      <td>47</td>\n",
       "      <td>1.086957</td>\n",
       "    </tr>\n",
       "    <tr>\n",
       "      <th>YAL007C</th>\n",
       "      <td>9</td>\n",
       "      <td>9</td>\n",
       "      <td>18</td>\n",
       "      <td>0.900000</td>\n",
       "    </tr>\n",
       "    <tr>\n",
       "      <th>YAL008W</th>\n",
       "      <td>7</td>\n",
       "      <td>8</td>\n",
       "      <td>15</td>\n",
       "      <td>1.000000</td>\n",
       "    </tr>\n",
       "  </tbody>\n",
       "</table>\n",
       "</div>"
      ],
      "text/plain": [
       "          Neg  Pos  Tot     ratio\n",
       "ArrayORF                         \n",
       "YAL002W   102   83  185  0.805825\n",
       "YAL004W    23   25   48  1.041667\n",
       "YAL005C    22   25   47  1.086957\n",
       "YAL007C     9    9   18  0.900000\n",
       "YAL008W     7    8   15  1.000000"
      ]
     },
     "execution_count": 81,
     "metadata": {},
     "output_type": "execute_result"
    }
   ],
   "source": [
    "ratDf.head()"
   ]
  },
  {
   "cell_type": "code",
   "execution_count": 109,
   "metadata": {
    "collapsed": false
   },
   "outputs": [
    {
     "data": {
      "text/plain": [
       "<matplotlib.axes._subplots.AxesSubplot at 0x123bb3160>"
      ]
     },
     "execution_count": 109,
     "metadata": {},
     "output_type": "execute_result"
    },
    {
     "data": {
      "image/png": "[encoded data removed]",
      "text/plain": [
       "<matplotlib.figure.Figure at 0x123b497f0>"
      ]
     },
     "metadata": {},
     "output_type": "display_data"
    }
   ],
   "source": [
    "ratDf[\"Neg\"].plot(kind = 'hist', xlim = (0, 250))"
   ]
  },
  {
   "cell_type": "code",
   "execution_count": 108,
   "metadata": {
    "collapsed": false
   },
   "outputs": [
    {
     "data": {
      "text/plain": [
       "<matplotlib.axes._subplots.AxesSubplot at 0x125ebbe10>"
      ]
     },
     "execution_count": 108,
     "metadata": {},
     "output_type": "execute_result"
    },
    {
     "data": {
      "image/png": "[encoded data removed]",
      "text/plain": [
       "<matplotlib.figure.Figure at 0x123bf51d0>"
      ]
     },
     "metadata": {},
     "output_type": "display_data"
    }
   ],
   "source": [
    "ratDf[\"Pos\"].plot(kind = 'hist')"
   ]
  },
  {
   "cell_type": "code",
   "execution_count": 110,
   "metadata": {
    "collapsed": true
   },
   "outputs": [],
   "source": [
    "totalInteractions = ratDf[\"Tot\"].sum()"
   ]
  },
  {
   "cell_type": "code",
   "execution_count": 113,
   "metadata": {
    "collapsed": false
   },
   "outputs": [],
   "source": [
    "ratDf[\"Neg%\"] = ratDf[\"Neg\"]/totalInteractions"
   ]
  },
  {
   "cell_type": "code",
   "execution_count": 116,
   "metadata": {
    "collapsed": false
   },
   "outputs": [],
   "source": [
    "ratDf[\"Pos%\"] = ratDf[\"Pos\"]/totalInteractions"
   ]
  },
  {
   "cell_type": "code",
   "execution_count": 118,
   "metadata": {
    "collapsed": false
   },
   "outputs": [
    {
     "data": {
      "text/plain": [
       "<matplotlib.axes._subplots.AxesSubplot at 0x123b9fc88>"
      ]
     },
     "execution_count": 118,
     "metadata": {},
     "output_type": "execute_result"
    },
    {
     "data": {
      "image/png": "[encoded data removed]",
      "text/plain": [
       "<matplotlib.figure.Figure at 0x123b7ce10>"
      ]
     },
     "metadata": {},
     "output_type": "display_data"
    }
   ],
   "source": [
    "ratDf[\"Pos%\"].plot(kind = 'hist')"
   ]
  },
  {
   "cell_type": "code",
   "execution_count": null,
   "metadata": {
    "collapsed": true
   },
   "outputs": [],
   "source": []
  }
 ],
 "metadata": {
  "kernelspec": {
   "display_name": "Python 3",
   "language": "python",
   "name": "python3"
  },
  "language_info": {
   "codemirror_mode": {
    "name": "ipython",
    "version": 3
   },
   "file_extension": ".py",
   "mimetype": "text/x-python",
   "name": "python",
   "nbconvert_exporter": "python",
   "pygments_lexer": "ipython3",
   "version": "3.5.1"
  }
 },
 "nbformat": 4,
 "nbformat_minor": 0
}
